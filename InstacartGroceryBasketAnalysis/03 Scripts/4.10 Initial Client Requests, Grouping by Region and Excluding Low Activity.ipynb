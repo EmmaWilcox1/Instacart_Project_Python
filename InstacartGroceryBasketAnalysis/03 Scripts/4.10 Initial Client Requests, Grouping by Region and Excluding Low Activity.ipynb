{
 "cells": [
  {
   "cell_type": "code",
   "execution_count": null,
   "id": "746167b5",
   "metadata": {},
   "outputs": [],
   "source": [
    "#Table of Contents for 4.10 Initial Client Requests, Grouping by Region and Excluding Low Activity\n",
    "##Importing Data\n",
    "##Reviewing PI \n",
    "##Initial Client Requests: region grouping, removal of low-activity customers"
   ]
  },
  {
   "cell_type": "code",
   "execution_count": 28,
   "id": "e0224ec3",
   "metadata": {},
   "outputs": [],
   "source": [
    "#Importing data\n",
    "##01 Importing libraries\n",
    "import os\n",
    "import numpy as np\n",
    "import pandas as pd"
   ]
  },
  {
   "cell_type": "code",
   "execution_count": 29,
   "id": "02565426",
   "metadata": {},
   "outputs": [],
   "source": [
    "##02 Defining \"path\" as a shortcut to the main Instacart folder on my desktop\n",
    "path = r'/Users/emmawilcox/Desktop/InstacartGroceryBasketAnalysis'"
   ]
  },
  {
   "cell_type": "code",
   "execution_count": 30,
   "id": "4c6ac717",
   "metadata": {},
   "outputs": [],
   "source": [
    "##03 Importing InstacartGroceryBasketAnalysis as a dataframe, named \"df_orders_products_customers_merged\"\n",
    "df_orders_products_customers_merged=pd.read_pickle(r'/Users/emmawilcox/Desktop/InstacartGroceryBasketAnalysis/Data/prepared data/orders_products_customers_merged.pkl')"
   ]
  },
  {
   "cell_type": "code",
   "execution_count": 31,
   "id": "5df052c7",
   "metadata": {},
   "outputs": [
    {
     "data": {
      "text/html": [
       "<div>\n",
       "<style scoped>\n",
       "    .dataframe tbody tr th:only-of-type {\n",
       "        vertical-align: middle;\n",
       "    }\n",
       "\n",
       "    .dataframe tbody tr th {\n",
       "        vertical-align: top;\n",
       "    }\n",
       "\n",
       "    .dataframe thead th {\n",
       "        text-align: right;\n",
       "    }\n",
       "</style>\n",
       "<table border=\"1\" class=\"dataframe\">\n",
       "  <thead>\n",
       "    <tr style=\"text-align: right;\">\n",
       "      <th></th>\n",
       "      <th>order_id</th>\n",
       "      <th>user_id</th>\n",
       "      <th>order_number</th>\n",
       "      <th>orders_day_of_week</th>\n",
       "      <th>time_order_placed</th>\n",
       "      <th>days_since_prior_order</th>\n",
       "      <th>product_id</th>\n",
       "      <th>add_to_cart_order</th>\n",
       "      <th>reordered</th>\n",
       "      <th>_merge</th>\n",
       "      <th>...</th>\n",
       "      <th>First Name</th>\n",
       "      <th>Surname</th>\n",
       "      <th>Gender</th>\n",
       "      <th>STATE</th>\n",
       "      <th>Age</th>\n",
       "      <th>date_joined</th>\n",
       "      <th>number_of_dependants</th>\n",
       "      <th>family_status</th>\n",
       "      <th>income</th>\n",
       "      <th>New Check</th>\n",
       "    </tr>\n",
       "  </thead>\n",
       "  <tbody>\n",
       "    <tr>\n",
       "      <th>0</th>\n",
       "      <td>2539329</td>\n",
       "      <td>1</td>\n",
       "      <td>1</td>\n",
       "      <td>2</td>\n",
       "      <td>8</td>\n",
       "      <td>7.0</td>\n",
       "      <td>196</td>\n",
       "      <td>1</td>\n",
       "      <td>0</td>\n",
       "      <td>both</td>\n",
       "      <td>...</td>\n",
       "      <td>Linda</td>\n",
       "      <td>Nguyen</td>\n",
       "      <td>Female</td>\n",
       "      <td>Alabama</td>\n",
       "      <td>31.0</td>\n",
       "      <td>2/17/2019</td>\n",
       "      <td>3.0</td>\n",
       "      <td>married</td>\n",
       "      <td>40423.0</td>\n",
       "      <td>both</td>\n",
       "    </tr>\n",
       "    <tr>\n",
       "      <th>1</th>\n",
       "      <td>2539329</td>\n",
       "      <td>1</td>\n",
       "      <td>1</td>\n",
       "      <td>2</td>\n",
       "      <td>8</td>\n",
       "      <td>7.0</td>\n",
       "      <td>14084</td>\n",
       "      <td>2</td>\n",
       "      <td>0</td>\n",
       "      <td>both</td>\n",
       "      <td>...</td>\n",
       "      <td>Linda</td>\n",
       "      <td>Nguyen</td>\n",
       "      <td>Female</td>\n",
       "      <td>Alabama</td>\n",
       "      <td>31.0</td>\n",
       "      <td>2/17/2019</td>\n",
       "      <td>3.0</td>\n",
       "      <td>married</td>\n",
       "      <td>40423.0</td>\n",
       "      <td>both</td>\n",
       "    </tr>\n",
       "    <tr>\n",
       "      <th>2</th>\n",
       "      <td>2539329</td>\n",
       "      <td>1</td>\n",
       "      <td>1</td>\n",
       "      <td>2</td>\n",
       "      <td>8</td>\n",
       "      <td>7.0</td>\n",
       "      <td>12427</td>\n",
       "      <td>3</td>\n",
       "      <td>0</td>\n",
       "      <td>both</td>\n",
       "      <td>...</td>\n",
       "      <td>Linda</td>\n",
       "      <td>Nguyen</td>\n",
       "      <td>Female</td>\n",
       "      <td>Alabama</td>\n",
       "      <td>31.0</td>\n",
       "      <td>2/17/2019</td>\n",
       "      <td>3.0</td>\n",
       "      <td>married</td>\n",
       "      <td>40423.0</td>\n",
       "      <td>both</td>\n",
       "    </tr>\n",
       "    <tr>\n",
       "      <th>3</th>\n",
       "      <td>2539329</td>\n",
       "      <td>1</td>\n",
       "      <td>1</td>\n",
       "      <td>2</td>\n",
       "      <td>8</td>\n",
       "      <td>7.0</td>\n",
       "      <td>26088</td>\n",
       "      <td>4</td>\n",
       "      <td>0</td>\n",
       "      <td>both</td>\n",
       "      <td>...</td>\n",
       "      <td>Linda</td>\n",
       "      <td>Nguyen</td>\n",
       "      <td>Female</td>\n",
       "      <td>Alabama</td>\n",
       "      <td>31.0</td>\n",
       "      <td>2/17/2019</td>\n",
       "      <td>3.0</td>\n",
       "      <td>married</td>\n",
       "      <td>40423.0</td>\n",
       "      <td>both</td>\n",
       "    </tr>\n",
       "    <tr>\n",
       "      <th>4</th>\n",
       "      <td>2539329</td>\n",
       "      <td>1</td>\n",
       "      <td>1</td>\n",
       "      <td>2</td>\n",
       "      <td>8</td>\n",
       "      <td>7.0</td>\n",
       "      <td>26405</td>\n",
       "      <td>5</td>\n",
       "      <td>0</td>\n",
       "      <td>both</td>\n",
       "      <td>...</td>\n",
       "      <td>Linda</td>\n",
       "      <td>Nguyen</td>\n",
       "      <td>Female</td>\n",
       "      <td>Alabama</td>\n",
       "      <td>31.0</td>\n",
       "      <td>2/17/2019</td>\n",
       "      <td>3.0</td>\n",
       "      <td>married</td>\n",
       "      <td>40423.0</td>\n",
       "      <td>both</td>\n",
       "    </tr>\n",
       "  </tbody>\n",
       "</table>\n",
       "<p>5 rows × 34 columns</p>\n",
       "</div>"
      ],
      "text/plain": [
       "   order_id  user_id  order_number  orders_day_of_week  time_order_placed  \\\n",
       "0   2539329        1             1                   2                  8   \n",
       "1   2539329        1             1                   2                  8   \n",
       "2   2539329        1             1                   2                  8   \n",
       "3   2539329        1             1                   2                  8   \n",
       "4   2539329        1             1                   2                  8   \n",
       "\n",
       "   days_since_prior_order  product_id  add_to_cart_order  reordered _merge  \\\n",
       "0                     7.0         196                  1          0   both   \n",
       "1                     7.0       14084                  2          0   both   \n",
       "2                     7.0       12427                  3          0   both   \n",
       "3                     7.0       26088                  4          0   both   \n",
       "4                     7.0       26405                  5          0   both   \n",
       "\n",
       "   ... First Name  Surname  Gender    STATE   Age date_joined  \\\n",
       "0  ...      Linda   Nguyen  Female  Alabama  31.0   2/17/2019   \n",
       "1  ...      Linda   Nguyen  Female  Alabama  31.0   2/17/2019   \n",
       "2  ...      Linda   Nguyen  Female  Alabama  31.0   2/17/2019   \n",
       "3  ...      Linda   Nguyen  Female  Alabama  31.0   2/17/2019   \n",
       "4  ...      Linda   Nguyen  Female  Alabama  31.0   2/17/2019   \n",
       "\n",
       "  number_of_dependants family_status   income New Check  \n",
       "0                  3.0       married  40423.0      both  \n",
       "1                  3.0       married  40423.0      both  \n",
       "2                  3.0       married  40423.0      both  \n",
       "3                  3.0       married  40423.0      both  \n",
       "4                  3.0       married  40423.0      both  \n",
       "\n",
       "[5 rows x 34 columns]"
      ]
     },
     "execution_count": 31,
     "metadata": {},
     "output_type": "execute_result"
    }
   ],
   "source": [
    "#Reviewing PI \n",
    "##04 The dataframe contains PII, namely in First Name, Surname and STATE columns. \n",
    "df_orders_products_customers_merged.head()"
   ]
  },
  {
   "cell_type": "code",
   "execution_count": 32,
   "id": "90f3d4bf",
   "metadata": {},
   "outputs": [],
   "source": [
    "#Initial Client Requests: region grouping, removal of low-activity customers\n",
    "##04 Grouping states into 4 regions, part 1\n",
    "result1 = []\n",
    "\n",
    "for value in df_orders_products_customers_merged[\"STATE\"]:\n",
    " if value in ['Maine', 'New Hampshire', 'Vermont', 'Massachusets', 'Rhode Island', 'Connecticut', 'New York', 'Pennsylvania', 'New Jersey' ]:\n",
    "    result1.append(\"Northeast Region\")\n",
    " elif value in ['Wisconsin', 'Michigan', 'Illnois', 'Indiana', 'Ohio', 'North Dakota','South Dakota','Nebraska','Kansas', 'Minnesota', 'Iowa', 'Missouri']:\n",
    "    result1.append(\"Midwest Region\")\n",
    " elif value in ['Delaware', 'Maryland', 'District of Columbia', 'Virginia', 'West Virginia', 'North Carolina', 'South Carolina', 'Georgia', 'Florida', 'Kentucky', 'Tennessee', 'Mississippi', 'Alabama']:\n",
    "    result1.append(\"South Region\")\n",
    " else:\n",
    "    result1.append(\"West Region\")"
   ]
  },
  {
   "cell_type": "code",
   "execution_count": 33,
   "id": "ff8e005b",
   "metadata": {},
   "outputs": [],
   "source": [
    "##05 Creating a column, \"Region\" and filling it with the 4 regions, part 2\n",
    "df_orders_products_customers_merged['Region'] = result1"
   ]
  },
  {
   "cell_type": "code",
   "execution_count": 34,
   "id": "f5d866be",
   "metadata": {},
   "outputs": [
    {
     "data": {
      "text/plain": [
       "West Region         11462302\n",
       "South Region         7766271\n",
       "Midwest Region       6584048\n",
       "Northeast Region     4812339\n",
       "Name: Region, dtype: int64"
      ]
     },
     "execution_count": 34,
     "metadata": {},
     "output_type": "execute_result"
    }
   ],
   "source": [
    "##06 Reviewing distribution of customers by region using .value_counts\n",
    "df_orders_products_customers_merged['Region'].value_counts()"
   ]
  },
  {
   "cell_type": "code",
   "execution_count": 35,
   "id": "0804c484",
   "metadata": {},
   "outputs": [],
   "source": [
    "##07 Grouping customers by whether they have placed 5 or more orders, or not, part 1\n",
    "result2 = []\n",
    "for value in df_orders_products_customers_merged[\"max_order\"]:\n",
    "  if value <= 5:\n",
    "    result2.append(\"0\")\n",
    "  else:\n",
    "    result2.append(\"1\")"
   ]
  },
  {
   "cell_type": "code",
   "execution_count": 36,
   "id": "268251aa",
   "metadata": {},
   "outputs": [],
   "source": [
    "##08 Grouping customers by whether they have placed 5 or more orders, or not, part 2\n",
    "df_orders_products_customers_merged['Activity_Level'] = result2"
   ]
  },
  {
   "cell_type": "code",
   "execution_count": 37,
   "id": "34cc82c9",
   "metadata": {},
   "outputs": [
    {
     "data": {
      "text/plain": [
       "1    28517248\n",
       "0     2107712\n",
       "Name: Activity_Level, dtype: int64"
      ]
     },
     "execution_count": 37,
     "metadata": {},
     "output_type": "execute_result"
    }
   ],
   "source": [
    "##09 Reviewing distribution of customer activity level using .value_counts\n",
    "df_orders_products_customers_merged['Activity_Level'].value_counts()"
   ]
  },
  {
   "cell_type": "code",
   "execution_count": 38,
   "id": "626fe46c",
   "metadata": {},
   "outputs": [],
   "source": [
    "##10 Creating a subset of just low-activity customers\n",
    "df_excluded =  df_orders_products_customers_merged[df_orders_products_customers_merged['Activity_Level']=='0']"
   ]
  },
  {
   "cell_type": "code",
   "execution_count": 39,
   "id": "1866e337",
   "metadata": {},
   "outputs": [
    {
     "data": {
      "text/plain": [
       "(2107712, 36)"
      ]
     },
     "execution_count": 39,
     "metadata": {},
     "output_type": "execute_result"
    }
   ],
   "source": [
    "##11 Confirming subset of just low-activity customers\n",
    "df_excluded.shape"
   ]
  },
  {
   "cell_type": "code",
   "execution_count": 40,
   "id": "289f1eb1",
   "metadata": {},
   "outputs": [],
   "source": [
    "##12 Exporting subset as a pkl, \"Excluded_Low_Activity\"\n",
    "df_excluded.to_pickle(os.path.join(path, 'Data','Prepared Data', 'Excluded_Low_Activity.pkl'))"
   ]
  },
  {
   "cell_type": "code",
   "execution_count": 41,
   "id": "6dde68d8",
   "metadata": {},
   "outputs": [],
   "source": [
    "##13 Changing data type of Activity_Level\n",
    "df_orders_products_customers_merged['Activity_Level'] = df_orders_products_customers_merged['Activity_Level'].astype('int64')"
   ]
  },
  {
   "cell_type": "code",
   "execution_count": 42,
   "id": "e66f6111",
   "metadata": {},
   "outputs": [],
   "source": [
    "##14 Removing low activity customers from dataframe\n",
    "df_orders_products_customers_merged.dropna(inplace = True)"
   ]
  },
  {
   "cell_type": "code",
   "execution_count": 43,
   "id": "f79920fa",
   "metadata": {},
   "outputs": [
    {
     "data": {
      "text/plain": [
       "order_id                  0\n",
       "user_id                   0\n",
       "order_number              0\n",
       "orders_day_of_week        0\n",
       "time_order_placed         0\n",
       "days_since_prior_order    0\n",
       "product_id                0\n",
       "add_to_cart_order         0\n",
       "reordered                 0\n",
       "_merge                    0\n",
       "product_name              0\n",
       "aisle_id                  0\n",
       "department_id             0\n",
       "prices                    0\n",
       "Check                     0\n",
       "price_range_loc           0\n",
       "busiest_days_column       0\n",
       "busiest_period_of_day     0\n",
       "max_order                 0\n",
       "loyalty_flag              0\n",
       "mean_order                0\n",
       "spending_level            0\n",
       "median_order_time         0\n",
       "frequency_of_customer     0\n",
       "First Name                0\n",
       "Surname                   0\n",
       "Gender                    0\n",
       "STATE                     0\n",
       "Age                       0\n",
       "date_joined               0\n",
       "number_of_dependants      0\n",
       "family_status             0\n",
       "income                    0\n",
       "New Check                 0\n",
       "Region                    0\n",
       "Activity_Level            0\n",
       "dtype: int64"
      ]
     },
     "execution_count": 43,
     "metadata": {},
     "output_type": "execute_result"
    }
   ],
   "source": [
    "##15 Checking for nulls in dataframe\n",
    "df_orders_products_customers_merged.isnull().sum()"
   ]
  },
  {
   "cell_type": "code",
   "execution_count": 80,
   "id": "7450e37b",
   "metadata": {},
   "outputs": [
    {
     "data": {
      "text/plain": [
       "1    28517248\n",
       "0     2107712\n",
       "Name: Activity_Level, dtype: int64"
      ]
     },
     "execution_count": 80,
     "metadata": {},
     "output_type": "execute_result"
    }
   ],
   "source": [
    "##16 Reviewing distribution of activity levels within customer base using .value_counts\n",
    "df_orders_products_customers_merged['Activity_Level'].value_counts()"
   ]
  },
  {
   "cell_type": "code",
   "execution_count": 87,
   "id": "b51f3189",
   "metadata": {},
   "outputs": [],
   "source": [
    "##17 Creating a dataframe, \"nolow_activity\" with only customers who have placed 5 or more orders\n",
    "df_nolow_activity = df_orders_products_customers_merged[df_orders_products_customers_merged['Activity_Level']== 1]"
   ]
  },
  {
   "cell_type": "code",
   "execution_count": 88,
   "id": "aa46dd83",
   "metadata": {},
   "outputs": [
    {
     "data": {
      "text/plain": [
       "(28517248, 36)"
      ]
     },
     "execution_count": 88,
     "metadata": {},
     "output_type": "execute_result"
    }
   ],
   "source": [
    "##18 Checking shape of that dataframe\n",
    "df_nolow_activity.shape"
   ]
  },
  {
   "cell_type": "code",
   "execution_count": 89,
   "id": "d80efbd8",
   "metadata": {},
   "outputs": [
    {
     "data": {
      "text/plain": [
       "1    28517248\n",
       "Name: Activity_Level, dtype: int64"
      ]
     },
     "execution_count": 89,
     "metadata": {},
     "output_type": "execute_result"
    }
   ],
   "source": [
    "##19 Checking that only the higher activity customers are in dataframe\n",
    "df_nolow_activity['Activity_Level'].value_counts()"
   ]
  },
  {
   "cell_type": "code",
   "execution_count": 97,
   "id": "e39da23d",
   "metadata": {},
   "outputs": [],
   "source": [
    "##20 Exporting dataframe as a pkl, \"nolow_activity\"\n",
    "df_nolow_activity.to_pickle(os.path.join(path, 'Data','Prepared Data', 'nolow_activity.pkl'))"
   ]
  },
  {
   "cell_type": "code",
   "execution_count": null,
   "id": "41fc0328",
   "metadata": {},
   "outputs": [],
   "source": []
  }
 ],
 "metadata": {
  "kernelspec": {
   "display_name": "Python 3 (ipykernel)",
   "language": "python",
   "name": "python3"
  },
  "language_info": {
   "codemirror_mode": {
    "name": "ipython",
    "version": 3
   },
   "file_extension": ".py",
   "mimetype": "text/x-python",
   "name": "python",
   "nbconvert_exporter": "python",
   "pygments_lexer": "ipython3",
   "version": "3.9.13"
  }
 },
 "nbformat": 4,
 "nbformat_minor": 5
}
