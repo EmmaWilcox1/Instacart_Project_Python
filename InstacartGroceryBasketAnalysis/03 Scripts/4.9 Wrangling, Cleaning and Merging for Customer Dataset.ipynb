{
 "cells": [
  {
   "cell_type": "code",
   "execution_count": null,
   "id": "a3b9e7d5",
   "metadata": {},
   "outputs": [],
   "source": [
    "#Table of Contents for 4.9 Wrangling, Cleaning and Merging for Customer Dataset\n",
    "##Importing Data\n",
    "##Wrangling and Cleaning\n",
    "##Merging"
   ]
  },
  {
   "cell_type": "code",
   "execution_count": 1,
   "id": "71e9c136",
   "metadata": {},
   "outputs": [],
   "source": [
    "##01 Importing Libraries\n",
    "import os\n",
    "import numpy as np\n",
    "import pandas as pd"
   ]
  },
  {
   "cell_type": "code",
   "execution_count": 2,
   "id": "3c97f29e",
   "metadata": {},
   "outputs": [],
   "source": [
    "#02 Defining \"path\" as a shortcut to the main Instacart folder on my desktop\n",
    "path = r'/Users/emmawilcox/Desktop/InstacartGroceryBasketAnalysis'"
   ]
  },
  {
   "cell_type": "code",
   "execution_count": 3,
   "id": "fc0201b3",
   "metadata": {},
   "outputs": [],
   "source": [
    "#03 Defining \"df_customers\" as a dataframe just for Customers file, with no index column\n",
    "df_customers = pd.read_csv(os.path.join(path, 'Data', 'OriginalData', 'customers.csv'), index_col = False)"
   ]
  },
  {
   "cell_type": "code",
   "execution_count": 4,
   "id": "a4dde1ab",
   "metadata": {},
   "outputs": [
    {
     "data": {
      "text/html": [
       "<div>\n",
       "<style scoped>\n",
       "    .dataframe tbody tr th:only-of-type {\n",
       "        vertical-align: middle;\n",
       "    }\n",
       "\n",
       "    .dataframe tbody tr th {\n",
       "        vertical-align: top;\n",
       "    }\n",
       "\n",
       "    .dataframe thead th {\n",
       "        text-align: right;\n",
       "    }\n",
       "</style>\n",
       "<table border=\"1\" class=\"dataframe\">\n",
       "  <thead>\n",
       "    <tr style=\"text-align: right;\">\n",
       "      <th></th>\n",
       "      <th>user_id</th>\n",
       "      <th>First Name</th>\n",
       "      <th>Surnam</th>\n",
       "      <th>Gender</th>\n",
       "      <th>STATE</th>\n",
       "      <th>Age</th>\n",
       "      <th>date_joined</th>\n",
       "      <th>n_dependants</th>\n",
       "      <th>fam_status</th>\n",
       "      <th>income</th>\n",
       "    </tr>\n",
       "  </thead>\n",
       "  <tbody>\n",
       "    <tr>\n",
       "      <th>0</th>\n",
       "      <td>26711</td>\n",
       "      <td>Deborah</td>\n",
       "      <td>Esquivel</td>\n",
       "      <td>Female</td>\n",
       "      <td>Missouri</td>\n",
       "      <td>48</td>\n",
       "      <td>1/1/2017</td>\n",
       "      <td>3</td>\n",
       "      <td>married</td>\n",
       "      <td>165665</td>\n",
       "    </tr>\n",
       "    <tr>\n",
       "      <th>1</th>\n",
       "      <td>33890</td>\n",
       "      <td>Patricia</td>\n",
       "      <td>Hart</td>\n",
       "      <td>Female</td>\n",
       "      <td>New Mexico</td>\n",
       "      <td>36</td>\n",
       "      <td>1/1/2017</td>\n",
       "      <td>0</td>\n",
       "      <td>single</td>\n",
       "      <td>59285</td>\n",
       "    </tr>\n",
       "    <tr>\n",
       "      <th>2</th>\n",
       "      <td>65803</td>\n",
       "      <td>Kenneth</td>\n",
       "      <td>Farley</td>\n",
       "      <td>Male</td>\n",
       "      <td>Idaho</td>\n",
       "      <td>35</td>\n",
       "      <td>1/1/2017</td>\n",
       "      <td>2</td>\n",
       "      <td>married</td>\n",
       "      <td>99568</td>\n",
       "    </tr>\n",
       "    <tr>\n",
       "      <th>3</th>\n",
       "      <td>125935</td>\n",
       "      <td>Michelle</td>\n",
       "      <td>Hicks</td>\n",
       "      <td>Female</td>\n",
       "      <td>Iowa</td>\n",
       "      <td>40</td>\n",
       "      <td>1/1/2017</td>\n",
       "      <td>0</td>\n",
       "      <td>single</td>\n",
       "      <td>42049</td>\n",
       "    </tr>\n",
       "    <tr>\n",
       "      <th>4</th>\n",
       "      <td>130797</td>\n",
       "      <td>Ann</td>\n",
       "      <td>Gilmore</td>\n",
       "      <td>Female</td>\n",
       "      <td>Maryland</td>\n",
       "      <td>26</td>\n",
       "      <td>1/1/2017</td>\n",
       "      <td>1</td>\n",
       "      <td>married</td>\n",
       "      <td>40374</td>\n",
       "    </tr>\n",
       "  </tbody>\n",
       "</table>\n",
       "</div>"
      ],
      "text/plain": [
       "   user_id First Name    Surnam  Gender       STATE  Age date_joined  \\\n",
       "0    26711    Deborah  Esquivel  Female    Missouri   48    1/1/2017   \n",
       "1    33890   Patricia      Hart  Female  New Mexico   36    1/1/2017   \n",
       "2    65803    Kenneth    Farley    Male       Idaho   35    1/1/2017   \n",
       "3   125935   Michelle     Hicks  Female        Iowa   40    1/1/2017   \n",
       "4   130797        Ann   Gilmore  Female    Maryland   26    1/1/2017   \n",
       "\n",
       "   n_dependants fam_status  income  \n",
       "0             3    married  165665  \n",
       "1             0     single   59285  \n",
       "2             2    married   99568  \n",
       "3             0     single   42049  \n",
       "4             1    married   40374  "
      ]
     },
     "execution_count": 4,
     "metadata": {},
     "output_type": "execute_result"
    }
   ],
   "source": [
    "#Wrangling and Cleaning\n",
    "##04 Looking at data in new dataset\n",
    "df_customers.head()"
   ]
  },
  {
   "cell_type": "code",
   "execution_count": 5,
   "id": "4f9aafd4",
   "metadata": {},
   "outputs": [
    {
     "name": "stdout",
     "output_type": "stream",
     "text": [
      "<class 'pandas.core.frame.DataFrame'>\n",
      "RangeIndex: 206209 entries, 0 to 206208\n",
      "Data columns (total 10 columns):\n",
      " #   Column        Non-Null Count   Dtype \n",
      "---  ------        --------------   ----- \n",
      " 0   user_id       206209 non-null  int64 \n",
      " 1   First Name    194950 non-null  object\n",
      " 2   Surnam        206209 non-null  object\n",
      " 3   Gender        206209 non-null  object\n",
      " 4   STATE         206209 non-null  object\n",
      " 5   Age           206209 non-null  int64 \n",
      " 6   date_joined   206209 non-null  object\n",
      " 7   n_dependants  206209 non-null  int64 \n",
      " 8   fam_status    206209 non-null  object\n",
      " 9   income        206209 non-null  int64 \n",
      "dtypes: int64(4), object(6)\n",
      "memory usage: 15.7+ MB\n"
     ]
    }
   ],
   "source": [
    "df_customers.info()"
   ]
  },
  {
   "cell_type": "code",
   "execution_count": 72,
   "id": "58dc872c",
   "metadata": {},
   "outputs": [
    {
     "data": {
      "text/html": [
       "<div>\n",
       "<style scoped>\n",
       "    .dataframe tbody tr th:only-of-type {\n",
       "        vertical-align: middle;\n",
       "    }\n",
       "\n",
       "    .dataframe tbody tr th {\n",
       "        vertical-align: top;\n",
       "    }\n",
       "\n",
       "    .dataframe thead th {\n",
       "        text-align: right;\n",
       "    }\n",
       "</style>\n",
       "<table border=\"1\" class=\"dataframe\">\n",
       "  <thead>\n",
       "    <tr style=\"text-align: right;\">\n",
       "      <th></th>\n",
       "      <th>user_id</th>\n",
       "      <th>Age</th>\n",
       "      <th>n_dependants</th>\n",
       "      <th>income</th>\n",
       "    </tr>\n",
       "  </thead>\n",
       "  <tbody>\n",
       "    <tr>\n",
       "      <th>count</th>\n",
       "      <td>206209.000000</td>\n",
       "      <td>206209.000000</td>\n",
       "      <td>206209.000000</td>\n",
       "      <td>206209.000000</td>\n",
       "    </tr>\n",
       "    <tr>\n",
       "      <th>mean</th>\n",
       "      <td>103105.000000</td>\n",
       "      <td>49.501646</td>\n",
       "      <td>1.499823</td>\n",
       "      <td>94632.852548</td>\n",
       "    </tr>\n",
       "    <tr>\n",
       "      <th>std</th>\n",
       "      <td>59527.555167</td>\n",
       "      <td>18.480962</td>\n",
       "      <td>1.118433</td>\n",
       "      <td>42473.786988</td>\n",
       "    </tr>\n",
       "    <tr>\n",
       "      <th>min</th>\n",
       "      <td>1.000000</td>\n",
       "      <td>18.000000</td>\n",
       "      <td>0.000000</td>\n",
       "      <td>25903.000000</td>\n",
       "    </tr>\n",
       "    <tr>\n",
       "      <th>25%</th>\n",
       "      <td>51553.000000</td>\n",
       "      <td>33.000000</td>\n",
       "      <td>0.000000</td>\n",
       "      <td>59874.000000</td>\n",
       "    </tr>\n",
       "    <tr>\n",
       "      <th>50%</th>\n",
       "      <td>103105.000000</td>\n",
       "      <td>49.000000</td>\n",
       "      <td>1.000000</td>\n",
       "      <td>93547.000000</td>\n",
       "    </tr>\n",
       "    <tr>\n",
       "      <th>75%</th>\n",
       "      <td>154657.000000</td>\n",
       "      <td>66.000000</td>\n",
       "      <td>3.000000</td>\n",
       "      <td>124244.000000</td>\n",
       "    </tr>\n",
       "    <tr>\n",
       "      <th>max</th>\n",
       "      <td>206209.000000</td>\n",
       "      <td>81.000000</td>\n",
       "      <td>3.000000</td>\n",
       "      <td>593901.000000</td>\n",
       "    </tr>\n",
       "  </tbody>\n",
       "</table>\n",
       "</div>"
      ],
      "text/plain": [
       "             user_id            Age   n_dependants         income\n",
       "count  206209.000000  206209.000000  206209.000000  206209.000000\n",
       "mean   103105.000000      49.501646       1.499823   94632.852548\n",
       "std     59527.555167      18.480962       1.118433   42473.786988\n",
       "min         1.000000      18.000000       0.000000   25903.000000\n",
       "25%     51553.000000      33.000000       0.000000   59874.000000\n",
       "50%    103105.000000      49.000000       1.000000   93547.000000\n",
       "75%    154657.000000      66.000000       3.000000  124244.000000\n",
       "max    206209.000000      81.000000       3.000000  593901.000000"
      ]
     },
     "execution_count": 72,
     "metadata": {},
     "output_type": "execute_result"
    }
   ],
   "source": [
    "##05 Looking at summary statistics\n",
    "df_customers.describe()"
   ]
  },
  {
   "cell_type": "code",
   "execution_count": 73,
   "id": "28b451fd",
   "metadata": {},
   "outputs": [
    {
     "name": "stdout",
     "output_type": "stream",
     "text": [
      "<class 'pandas.core.frame.DataFrame'>\n",
      "RangeIndex: 206209 entries, 0 to 206208\n",
      "Data columns (total 10 columns):\n",
      " #   Column        Non-Null Count   Dtype \n",
      "---  ------        --------------   ----- \n",
      " 0   user_id       206209 non-null  int64 \n",
      " 1   First Name    194950 non-null  object\n",
      " 2   Surnam        206209 non-null  object\n",
      " 3   Gender        206209 non-null  object\n",
      " 4   STATE         206209 non-null  object\n",
      " 5   Age           206209 non-null  int64 \n",
      " 6   date_joined   206209 non-null  object\n",
      " 7   n_dependants  206209 non-null  int64 \n",
      " 8   fam_status    206209 non-null  object\n",
      " 9   income        206209 non-null  int64 \n",
      "dtypes: int64(4), object(6)\n",
      "memory usage: 15.7+ MB\n"
     ]
    }
   ],
   "source": [
    "##06 Looking at size and types of data\n",
    "df_customers.info()"
   ]
  },
  {
   "cell_type": "code",
   "execution_count": 74,
   "id": "96f8f095",
   "metadata": {},
   "outputs": [
    {
     "data": {
      "text/plain": [
       "user_id             0\n",
       "First Name      11259\n",
       "Surnam              0\n",
       "Gender              0\n",
       "STATE               0\n",
       "Age                 0\n",
       "date_joined         0\n",
       "n_dependants        0\n",
       "fam_status          0\n",
       "income              0\n",
       "dtype: int64"
      ]
     },
     "execution_count": 74,
     "metadata": {},
     "output_type": "execute_result"
    }
   ],
   "source": [
    "##07 Looking for nulls\n",
    "df_customers.isnull().sum()"
   ]
  },
  {
   "cell_type": "code",
   "execution_count": 75,
   "id": "21439b90",
   "metadata": {},
   "outputs": [
    {
     "data": {
      "text/plain": [
       "19    3329\n",
       "55    3317\n",
       "51    3317\n",
       "56    3306\n",
       "32    3305\n",
       "      ... \n",
       "65    3145\n",
       "25    3127\n",
       "66    3114\n",
       "50    3102\n",
       "36    3101\n",
       "Name: Age, Length: 64, dtype: int64"
      ]
     },
     "execution_count": 75,
     "metadata": {},
     "output_type": "execute_result"
    }
   ],
   "source": [
    "##08 Reviewing customer age frequency distribution\n",
    "df_customers['Age'].value_counts(dropna = False)"
   ]
  },
  {
   "cell_type": "code",
   "execution_count": 76,
   "id": "c6f91522",
   "metadata": {},
   "outputs": [
    {
     "data": {
      "text/plain": [
       "Female    102142\n",
       "Male      104067\n",
       "Name: Gender, dtype: int64"
      ]
     },
     "execution_count": 76,
     "metadata": {},
     "output_type": "execute_result"
    }
   ],
   "source": [
    "##09 Reviewing customer gender frequency distribution\n",
    "df_customers['Gender'].value_counts(dropna = False).sort_index()"
   ]
  },
  {
   "cell_type": "code",
   "execution_count": 77,
   "id": "07e5148e",
   "metadata": {},
   "outputs": [
    {
     "data": {
      "text/plain": [
       "Alabama                 4044\n",
       "Alaska                  4044\n",
       "Arizona                 4044\n",
       "Arkansas                4044\n",
       "California              4044\n",
       "Colorado                4044\n",
       "Connecticut             4044\n",
       "Delaware                4044\n",
       "District of Columbia    4044\n",
       "Florida                 4044\n",
       "Georgia                 4044\n",
       "Hawaii                  4044\n",
       "Idaho                   4044\n",
       "Illinois                4044\n",
       "Indiana                 4044\n",
       "Iowa                    4044\n",
       "Kansas                  4043\n",
       "Kentucky                4043\n",
       "Louisiana               4043\n",
       "Maine                   4043\n",
       "Maryland                4043\n",
       "Massachusetts           4043\n",
       "Michigan                4043\n",
       "Minnesota               4043\n",
       "Mississippi             4043\n",
       "Missouri                4043\n",
       "Montana                 4043\n",
       "Nebraska                4043\n",
       "Nevada                  4043\n",
       "New Hampshire           4043\n",
       "New Jersey              4043\n",
       "New Mexico              4043\n",
       "New York                4043\n",
       "North Carolina          4043\n",
       "North Dakota            4043\n",
       "Ohio                    4043\n",
       "Oklahoma                4043\n",
       "Oregon                  4043\n",
       "Pennsylvania            4043\n",
       "Rhode Island            4043\n",
       "South Carolina          4043\n",
       "South Dakota            4043\n",
       "Tennessee               4043\n",
       "Texas                   4043\n",
       "Utah                    4043\n",
       "Vermont                 4043\n",
       "Virginia                4043\n",
       "Washington              4043\n",
       "West Virginia           4043\n",
       "Wisconsin               4043\n",
       "Wyoming                 4043\n",
       "Name: STATE, dtype: int64"
      ]
     },
     "execution_count": 77,
     "metadata": {},
     "output_type": "execute_result"
    }
   ],
   "source": [
    "##10 Reviewing customer state frequency distribution\n",
    "df_customers['STATE'].value_counts(dropna = False).sort_index()"
   ]
  },
  {
   "cell_type": "code",
   "execution_count": 78,
   "id": "df583b7d",
   "metadata": {},
   "outputs": [
    {
     "data": {
      "text/plain": [
       "1/1/2017     159\n",
       "1/1/2018     147\n",
       "1/1/2019     153\n",
       "1/1/2020     153\n",
       "1/10/2017    192\n",
       "            ... \n",
       "9/8/2018     164\n",
       "9/8/2019     158\n",
       "9/9/2017     186\n",
       "9/9/2018     174\n",
       "9/9/2019     181\n",
       "Name: date_joined, Length: 1187, dtype: int64"
      ]
     },
     "execution_count": 78,
     "metadata": {},
     "output_type": "execute_result"
    }
   ],
   "source": [
    "##11 Reviewing customer date of joining frequency distribution\n",
    "df_customers['date_joined'].value_counts(dropna = False).sort_index()"
   ]
  },
  {
   "cell_type": "code",
   "execution_count": 79,
   "id": "03b04606",
   "metadata": {},
   "outputs": [
    {
     "data": {
      "text/plain": [
       "0    51602\n",
       "1    51531\n",
       "2    51482\n",
       "3    51594\n",
       "Name: n_dependants, dtype: int64"
      ]
     },
     "execution_count": 79,
     "metadata": {},
     "output_type": "execute_result"
    }
   ],
   "source": [
    "##12 Reviewing customer dependants frequency distribution\n",
    "df_customers['n_dependants'].value_counts(dropna = False).sort_index()"
   ]
  },
  {
   "cell_type": "code",
   "execution_count": 80,
   "id": "c062e740",
   "metadata": {},
   "outputs": [
    {
     "data": {
      "text/plain": [
       "married                             144906\n",
       "single                               33962\n",
       "divorced/widowed                     17640\n",
       "living with parents and siblings      9701\n",
       "Name: fam_status, dtype: int64"
      ]
     },
     "execution_count": 80,
     "metadata": {},
     "output_type": "execute_result"
    }
   ],
   "source": [
    "##13 Reviewing customer family status frequency distribution\n",
    "df_customers['fam_status'].value_counts(dropna = False)"
   ]
  },
  {
   "cell_type": "code",
   "execution_count": 81,
   "id": "37c41013",
   "metadata": {},
   "outputs": [],
   "source": [
    "##14 Renaming a column, 1 of 3\n",
    "df_customers.rename(columns = {'Surnam' : 'Surname'}, inplace = True)"
   ]
  },
  {
   "cell_type": "code",
   "execution_count": 82,
   "id": "602ad9d4",
   "metadata": {},
   "outputs": [],
   "source": [
    "##15 Renaming a column, 2 of 3\n",
    "df_customers.rename(columns = {'n_dependants' : 'number_of_dependants'}, inplace = True)"
   ]
  },
  {
   "cell_type": "code",
   "execution_count": 83,
   "id": "b6805f4b",
   "metadata": {},
   "outputs": [],
   "source": [
    "##16 Renaming a column, 3 of 3\n",
    "df_customers.rename(columns = {'fam_status' : 'family_status'}, inplace = True)"
   ]
  },
  {
   "cell_type": "code",
   "execution_count": 84,
   "id": "75e1e946",
   "metadata": {},
   "outputs": [
    {
     "data": {
      "text/html": [
       "<div>\n",
       "<style scoped>\n",
       "    .dataframe tbody tr th:only-of-type {\n",
       "        vertical-align: middle;\n",
       "    }\n",
       "\n",
       "    .dataframe tbody tr th {\n",
       "        vertical-align: top;\n",
       "    }\n",
       "\n",
       "    .dataframe thead th {\n",
       "        text-align: right;\n",
       "    }\n",
       "</style>\n",
       "<table border=\"1\" class=\"dataframe\">\n",
       "  <thead>\n",
       "    <tr style=\"text-align: right;\">\n",
       "      <th></th>\n",
       "      <th>user_id</th>\n",
       "      <th>First Name</th>\n",
       "      <th>Surname</th>\n",
       "      <th>Gender</th>\n",
       "      <th>STATE</th>\n",
       "      <th>Age</th>\n",
       "      <th>date_joined</th>\n",
       "      <th>number_of_dependants</th>\n",
       "      <th>family_status</th>\n",
       "      <th>income</th>\n",
       "    </tr>\n",
       "  </thead>\n",
       "  <tbody>\n",
       "    <tr>\n",
       "      <th>0</th>\n",
       "      <td>26711</td>\n",
       "      <td>Deborah</td>\n",
       "      <td>Esquivel</td>\n",
       "      <td>Female</td>\n",
       "      <td>Missouri</td>\n",
       "      <td>48</td>\n",
       "      <td>1/1/2017</td>\n",
       "      <td>3</td>\n",
       "      <td>married</td>\n",
       "      <td>165665</td>\n",
       "    </tr>\n",
       "    <tr>\n",
       "      <th>1</th>\n",
       "      <td>33890</td>\n",
       "      <td>Patricia</td>\n",
       "      <td>Hart</td>\n",
       "      <td>Female</td>\n",
       "      <td>New Mexico</td>\n",
       "      <td>36</td>\n",
       "      <td>1/1/2017</td>\n",
       "      <td>0</td>\n",
       "      <td>single</td>\n",
       "      <td>59285</td>\n",
       "    </tr>\n",
       "    <tr>\n",
       "      <th>2</th>\n",
       "      <td>65803</td>\n",
       "      <td>Kenneth</td>\n",
       "      <td>Farley</td>\n",
       "      <td>Male</td>\n",
       "      <td>Idaho</td>\n",
       "      <td>35</td>\n",
       "      <td>1/1/2017</td>\n",
       "      <td>2</td>\n",
       "      <td>married</td>\n",
       "      <td>99568</td>\n",
       "    </tr>\n",
       "    <tr>\n",
       "      <th>3</th>\n",
       "      <td>125935</td>\n",
       "      <td>Michelle</td>\n",
       "      <td>Hicks</td>\n",
       "      <td>Female</td>\n",
       "      <td>Iowa</td>\n",
       "      <td>40</td>\n",
       "      <td>1/1/2017</td>\n",
       "      <td>0</td>\n",
       "      <td>single</td>\n",
       "      <td>42049</td>\n",
       "    </tr>\n",
       "    <tr>\n",
       "      <th>4</th>\n",
       "      <td>130797</td>\n",
       "      <td>Ann</td>\n",
       "      <td>Gilmore</td>\n",
       "      <td>Female</td>\n",
       "      <td>Maryland</td>\n",
       "      <td>26</td>\n",
       "      <td>1/1/2017</td>\n",
       "      <td>1</td>\n",
       "      <td>married</td>\n",
       "      <td>40374</td>\n",
       "    </tr>\n",
       "  </tbody>\n",
       "</table>\n",
       "</div>"
      ],
      "text/plain": [
       "   user_id First Name   Surname  Gender       STATE  Age date_joined  \\\n",
       "0    26711    Deborah  Esquivel  Female    Missouri   48    1/1/2017   \n",
       "1    33890   Patricia      Hart  Female  New Mexico   36    1/1/2017   \n",
       "2    65803    Kenneth    Farley    Male       Idaho   35    1/1/2017   \n",
       "3   125935   Michelle     Hicks  Female        Iowa   40    1/1/2017   \n",
       "4   130797        Ann   Gilmore  Female    Maryland   26    1/1/2017   \n",
       "\n",
       "   number_of_dependants family_status  income  \n",
       "0                     3       married  165665  \n",
       "1                     0        single   59285  \n",
       "2                     2       married   99568  \n",
       "3                     0        single   42049  \n",
       "4                     1       married   40374  "
      ]
     },
     "execution_count": 84,
     "metadata": {},
     "output_type": "execute_result"
    }
   ],
   "source": [
    "##17 Checking results of renaming\n",
    "df_customers.head()"
   ]
  },
  {
   "cell_type": "code",
   "execution_count": 85,
   "id": "b4455445",
   "metadata": {},
   "outputs": [],
   "source": [
    "##18 Removing nulls\n",
    "df_customers_clean = df_customers[df_customers['First Name'].isnull() == False]"
   ]
  },
  {
   "cell_type": "code",
   "execution_count": 86,
   "id": "680f0bed",
   "metadata": {},
   "outputs": [
    {
     "name": "stdout",
     "output_type": "stream",
     "text": [
      "<class 'pandas.core.frame.DataFrame'>\n",
      "Int64Index: 194950 entries, 0 to 206208\n",
      "Data columns (total 10 columns):\n",
      " #   Column                Non-Null Count   Dtype \n",
      "---  ------                --------------   ----- \n",
      " 0   user_id               194950 non-null  int64 \n",
      " 1   First Name            194950 non-null  object\n",
      " 2   Surname               194950 non-null  object\n",
      " 3   Gender                194950 non-null  object\n",
      " 4   STATE                 194950 non-null  object\n",
      " 5   Age                   194950 non-null  int64 \n",
      " 6   date_joined           194950 non-null  object\n",
      " 7   number_of_dependants  194950 non-null  int64 \n",
      " 8   family_status         194950 non-null  object\n",
      " 9   income                194950 non-null  int64 \n",
      "dtypes: int64(4), object(6)\n",
      "memory usage: 16.4+ MB\n"
     ]
    }
   ],
   "source": [
    "##19 Looking at new number of entries after nan removal\n",
    "df_customers_clean.info()"
   ]
  },
  {
   "cell_type": "code",
   "execution_count": 87,
   "id": "5e85a257",
   "metadata": {},
   "outputs": [],
   "source": [
    "##20 Looking for duplicates\n",
    "df_dupes = df_customers_clean[df_customers_clean.duplicated()]"
   ]
  },
  {
   "cell_type": "code",
   "execution_count": 88,
   "id": "6f40f103",
   "metadata": {},
   "outputs": [
    {
     "data": {
      "text/plain": [
       "(0, 10)"
      ]
     },
     "execution_count": 88,
     "metadata": {},
     "output_type": "execute_result"
    }
   ],
   "source": [
    "##21 Finding no duplicates\n",
    "df_dupes.shape"
   ]
  },
  {
   "cell_type": "code",
   "execution_count": 89,
   "id": "dcaaa816",
   "metadata": {},
   "outputs": [],
   "source": [
    "##22 Looking for mixed type columns\n",
    "for col in df_customers_clean.columns.tolist():\n",
    "  weird = (df_customers_clean[[col]].applymap(type) != df_customers_clean[[col]].iloc[0].apply(type)).any(axis = 1)\n",
    "  if len (df_customers_clean[weird]) > 0:\n",
    "    print (col)"
   ]
  },
  {
   "cell_type": "code",
   "execution_count": 90,
   "id": "b5e6869d",
   "metadata": {},
   "outputs": [],
   "source": [
    "##23 Merging\n",
    "## Defining \"df_orders_products\" as a dataframe just for orders_products_merged file, with no index column\n",
    "df_orders_products=pd.read_pickle(r'/Users/emmawilcox/Desktop/InstacartGroceryBasketAnalysis/Data/prepared data/orders_products_merged49.pkl')"
   ]
  },
  {
   "cell_type": "code",
   "execution_count": 91,
   "id": "a80f937d",
   "metadata": {},
   "outputs": [
    {
     "name": "stdout",
     "output_type": "stream",
     "text": [
      "<class 'pandas.core.frame.DataFrame'>\n",
      "Int64Index: 32435059 entries, 0 to 32435058\n",
      "Data columns (total 24 columns):\n",
      " #   Column                  Dtype   \n",
      "---  ------                  -----   \n",
      " 0   order_id                int64   \n",
      " 1   user_id                 int64   \n",
      " 2   order_number            int64   \n",
      " 3   orders_day_of_week      int8    \n",
      " 4   time_order_placed       int8    \n",
      " 5   days_since_prior_order  float16 \n",
      " 6   product_id              int64   \n",
      " 7   add_to_cart_order       int8    \n",
      " 8   reordered               int8    \n",
      " 9   _merge                  category\n",
      " 10  product_name            object  \n",
      " 11  aisle_id                float16 \n",
      " 12  department_id           float16 \n",
      " 13  prices                  float64 \n",
      " 14  Check                   category\n",
      " 15  price_range_loc         object  \n",
      " 16  busiest_days_column     object  \n",
      " 17  busiest_period_of_day   object  \n",
      " 18  max_order               int64   \n",
      " 19  loyalty_flag            object  \n",
      " 20  mean_order              float64 \n",
      " 21  spending_level          object  \n",
      " 22  median_order_time       float16 \n",
      " 23  frequency_of_customer   object  \n",
      "dtypes: category(2), float16(4), float64(2), int64(5), int8(4), object(7)\n",
      "memory usage: 4.0+ GB\n"
     ]
    }
   ],
   "source": [
    "##24 Checking newly imported dataframe\n",
    "df_orders_products.info()"
   ]
  },
  {
   "cell_type": "code",
   "execution_count": 45,
   "id": "7892fb29",
   "metadata": {},
   "outputs": [
    {
     "data": {
      "text/plain": [
       "order_id                      0\n",
       "user_id                       0\n",
       "order_number                  0\n",
       "orders_day_of_week            0\n",
       "time_order_placed             0\n",
       "days_since_prior_order        0\n",
       "product_id                    0\n",
       "add_to_cart_order             0\n",
       "reordered                     0\n",
       "_merge                        0\n",
       "product_name              30200\n",
       "aisle_id                  30200\n",
       "department_id             30200\n",
       "prices                    35327\n",
       "Check                         0\n",
       "price_range_loc           30200\n",
       "busiest_days_column           0\n",
       "busiest_period_of_day         0\n",
       "max_order                     0\n",
       "loyalty_flag                  0\n",
       "mean_order                    0\n",
       "spending_level                0\n",
       "median_order_time             0\n",
       "frequency_of_customer         0\n",
       "dtype: int64"
      ]
     },
     "execution_count": 45,
     "metadata": {},
     "output_type": "execute_result"
    }
   ],
   "source": [
    "##25 There are nulls in the dataframe. \n",
    "df_orders_products.isnull().sum()"
   ]
  },
  {
   "cell_type": "code",
   "execution_count": 92,
   "id": "0c16dca9",
   "metadata": {},
   "outputs": [],
   "source": [
    "##26 Cleaning nulls using Product Name\n",
    "df_orders_products_clean = df_orders_products[df_orders_products['product_name'].isnull() == False]"
   ]
  },
  {
   "cell_type": "code",
   "execution_count": 93,
   "id": "2bfb84cd",
   "metadata": {},
   "outputs": [
    {
     "data": {
      "text/plain": [
       "order_id                     0\n",
       "user_id                      0\n",
       "order_number                 0\n",
       "orders_day_of_week           0\n",
       "time_order_placed            0\n",
       "days_since_prior_order       0\n",
       "product_id                   0\n",
       "add_to_cart_order            0\n",
       "reordered                    0\n",
       "_merge                       0\n",
       "product_name                 0\n",
       "aisle_id                     0\n",
       "department_id                0\n",
       "prices                    5127\n",
       "Check                        0\n",
       "price_range_loc              0\n",
       "busiest_days_column          0\n",
       "busiest_period_of_day        0\n",
       "max_order                    0\n",
       "loyalty_flag                 0\n",
       "mean_order                   0\n",
       "spending_level               0\n",
       "median_order_time            0\n",
       "frequency_of_customer        0\n",
       "dtype: int64"
      ]
     },
     "execution_count": 93,
     "metadata": {},
     "output_type": "execute_result"
    }
   ],
   "source": [
    "##27 Checking remaining nulls\n",
    "df_orders_products_clean.isnull().sum()"
   ]
  },
  {
   "cell_type": "code",
   "execution_count": 94,
   "id": "93fbbab3",
   "metadata": {},
   "outputs": [],
   "source": [
    "##28 Cleaning nulls using Prices\n",
    "df_orders_products_clean = df_orders_products[df_orders_products['prices'].isnull() == False]"
   ]
  },
  {
   "cell_type": "code",
   "execution_count": 95,
   "id": "fac074a2",
   "metadata": {},
   "outputs": [
    {
     "data": {
      "text/plain": [
       "order_id                  0\n",
       "user_id                   0\n",
       "order_number              0\n",
       "orders_day_of_week        0\n",
       "time_order_placed         0\n",
       "days_since_prior_order    0\n",
       "product_id                0\n",
       "add_to_cart_order         0\n",
       "reordered                 0\n",
       "_merge                    0\n",
       "product_name              0\n",
       "aisle_id                  0\n",
       "department_id             0\n",
       "prices                    0\n",
       "Check                     0\n",
       "price_range_loc           0\n",
       "busiest_days_column       0\n",
       "busiest_period_of_day     0\n",
       "max_order                 0\n",
       "loyalty_flag              0\n",
       "mean_order                0\n",
       "spending_level            0\n",
       "median_order_time         0\n",
       "frequency_of_customer     0\n",
       "dtype: int64"
      ]
     },
     "execution_count": 95,
     "metadata": {},
     "output_type": "execute_result"
    }
   ],
   "source": [
    "##29 Checking for nulls again\n",
    "df_orders_products_clean.isnull().sum()"
   ]
  },
  {
   "cell_type": "code",
   "execution_count": 96,
   "id": "e6c3fb21",
   "metadata": {},
   "outputs": [
    {
     "data": {
      "text/plain": [
       "(32399732, 24)"
      ]
     },
     "execution_count": 96,
     "metadata": {},
     "output_type": "execute_result"
    }
   ],
   "source": [
    "##30 Checking size of cleaned dataframe\n",
    "df_orders_products_clean.shape"
   ]
  },
  {
   "cell_type": "code",
   "execution_count": 97,
   "id": "3f185fb3",
   "metadata": {},
   "outputs": [],
   "source": [
    "##31 Using merge to enrich \"df_orders_products_clean\" with matching data: \n",
    "## first name, surname, gender, age, state, date joined, number dependants, family status, income\n",
    "## Using an alternative name to \"_merge,\" \"New Check\" so that an error message won't come up with indicator\n",
    "df_merged = df_orders_products_clean.merge(df_customers_clean, on = ['user_id'], indicator = 'New Check')"
   ]
  },
  {
   "cell_type": "code",
   "execution_count": 98,
   "id": "c097b52a",
   "metadata": {},
   "outputs": [
    {
     "data": {
      "text/plain": [
       "both          30624960\n",
       "left_only            0\n",
       "right_only           0\n",
       "Name: New Check, dtype: int64"
      ]
     },
     "execution_count": 98,
     "metadata": {},
     "output_type": "execute_result"
    }
   ],
   "source": [
    "##32 Checking results of merge\n",
    "df_merged['New Check'].value_counts()"
   ]
  },
  {
   "cell_type": "code",
   "execution_count": 99,
   "id": "4dfb1a71",
   "metadata": {},
   "outputs": [
    {
     "name": "stdout",
     "output_type": "stream",
     "text": [
      "<class 'pandas.core.frame.DataFrame'>\n",
      "Int64Index: 30624960 entries, 0 to 30624959\n",
      "Data columns (total 34 columns):\n",
      " #   Column                  Dtype   \n",
      "---  ------                  -----   \n",
      " 0   order_id                int64   \n",
      " 1   user_id                 int64   \n",
      " 2   order_number            int64   \n",
      " 3   orders_day_of_week      int8    \n",
      " 4   time_order_placed       int8    \n",
      " 5   days_since_prior_order  float16 \n",
      " 6   product_id              int64   \n",
      " 7   add_to_cart_order       int8    \n",
      " 8   reordered               int8    \n",
      " 9   _merge                  category\n",
      " 10  product_name            object  \n",
      " 11  aisle_id                float16 \n",
      " 12  department_id           float16 \n",
      " 13  prices                  float64 \n",
      " 14  Check                   category\n",
      " 15  price_range_loc         object  \n",
      " 16  busiest_days_column     object  \n",
      " 17  busiest_period_of_day   object  \n",
      " 18  max_order               int64   \n",
      " 19  loyalty_flag            object  \n",
      " 20  mean_order              float64 \n",
      " 21  spending_level          object  \n",
      " 22  median_order_time       float16 \n",
      " 23  frequency_of_customer   object  \n",
      " 24  First Name              object  \n",
      " 25  Surname                 object  \n",
      " 26  Gender                  object  \n",
      " 27  STATE                   object  \n",
      " 28  Age                     int64   \n",
      " 29  date_joined             object  \n",
      " 30  number_of_dependants    int64   \n",
      " 31  family_status           object  \n",
      " 32  income                  int64   \n",
      " 33  New Check               category\n",
      "dtypes: category(3), float16(4), float64(2), int64(8), int8(4), object(13)\n",
      "memory usage: 5.9+ GB\n"
     ]
    }
   ],
   "source": [
    "##33 Looking a newly created dataframe\n",
    "df_merged.info()"
   ]
  },
  {
   "cell_type": "code",
   "execution_count": 102,
   "id": "57e18f9b",
   "metadata": {},
   "outputs": [
    {
     "data": {
      "text/plain": [
       "order_id                  0\n",
       "user_id                   0\n",
       "order_number              0\n",
       "orders_day_of_week        0\n",
       "time_order_placed         0\n",
       "days_since_prior_order    0\n",
       "product_id                0\n",
       "add_to_cart_order         0\n",
       "reordered                 0\n",
       "_merge                    0\n",
       "product_name              0\n",
       "aisle_id                  0\n",
       "department_id             0\n",
       "prices                    0\n",
       "Check                     0\n",
       "price_range_loc           0\n",
       "busiest_days_column       0\n",
       "busiest_period_of_day     0\n",
       "max_order                 0\n",
       "loyalty_flag              0\n",
       "mean_order                0\n",
       "spending_level            0\n",
       "median_order_time         0\n",
       "frequency_of_customer     0\n",
       "First Name                0\n",
       "Surname                   0\n",
       "Gender                    0\n",
       "STATE                     0\n",
       "Age                       0\n",
       "date_joined               0\n",
       "number_of_dependants      0\n",
       "family_status             0\n",
       "income                    0\n",
       "New Check                 0\n",
       "dtype: int64"
      ]
     },
     "execution_count": 102,
     "metadata": {},
     "output_type": "execute_result"
    }
   ],
   "source": [
    "##34 Looking for nulls, finding none\n",
    "df_merged.isnull().sum()"
   ]
  },
  {
   "cell_type": "code",
   "execution_count": 105,
   "id": "f0ce1f82",
   "metadata": {},
   "outputs": [
    {
     "data": {
      "text/html": [
       "<div>\n",
       "<style scoped>\n",
       "    .dataframe tbody tr th:only-of-type {\n",
       "        vertical-align: middle;\n",
       "    }\n",
       "\n",
       "    .dataframe tbody tr th {\n",
       "        vertical-align: top;\n",
       "    }\n",
       "\n",
       "    .dataframe thead th {\n",
       "        text-align: right;\n",
       "    }\n",
       "</style>\n",
       "<table border=\"1\" class=\"dataframe\">\n",
       "  <thead>\n",
       "    <tr style=\"text-align: right;\">\n",
       "      <th></th>\n",
       "      <th>order_id</th>\n",
       "      <th>user_id</th>\n",
       "      <th>order_number</th>\n",
       "      <th>orders_day_of_week</th>\n",
       "      <th>time_order_placed</th>\n",
       "      <th>days_since_prior_order</th>\n",
       "      <th>product_id</th>\n",
       "      <th>add_to_cart_order</th>\n",
       "      <th>reordered</th>\n",
       "      <th>aisle_id</th>\n",
       "      <th>department_id</th>\n",
       "      <th>prices</th>\n",
       "      <th>max_order</th>\n",
       "      <th>mean_order</th>\n",
       "      <th>median_order_time</th>\n",
       "      <th>Age</th>\n",
       "      <th>number_of_dependants</th>\n",
       "      <th>income</th>\n",
       "    </tr>\n",
       "  </thead>\n",
       "  <tbody>\n",
       "    <tr>\n",
       "      <th>count</th>\n",
       "      <td>3.062496e+07</td>\n",
       "      <td>3.062496e+07</td>\n",
       "      <td>3.062496e+07</td>\n",
       "      <td>3.062496e+07</td>\n",
       "      <td>3.062496e+07</td>\n",
       "      <td>30624960.0</td>\n",
       "      <td>3.062496e+07</td>\n",
       "      <td>3.062496e+07</td>\n",
       "      <td>3.062496e+07</td>\n",
       "      <td>30624960.0</td>\n",
       "      <td>30624960.0</td>\n",
       "      <td>3.062496e+07</td>\n",
       "      <td>3.062496e+07</td>\n",
       "      <td>3.062496e+07</td>\n",
       "      <td>30624960.0</td>\n",
       "      <td>3.062496e+07</td>\n",
       "      <td>3.062496e+07</td>\n",
       "      <td>3.062496e+07</td>\n",
       "    </tr>\n",
       "    <tr>\n",
       "      <th>mean</th>\n",
       "      <td>1.710742e+06</td>\n",
       "      <td>1.029796e+05</td>\n",
       "      <td>1.712424e+01</td>\n",
       "      <td>2.738079e+00</td>\n",
       "      <td>1.342524e+01</td>\n",
       "      <td>NaN</td>\n",
       "      <td>2.560221e+04</td>\n",
       "      <td>8.354753e+00</td>\n",
       "      <td>5.895051e-01</td>\n",
       "      <td>NaN</td>\n",
       "      <td>NaN</td>\n",
       "      <td>7.791916e+00</td>\n",
       "      <td>3.301272e+01</td>\n",
       "      <td>1.180777e+01</td>\n",
       "      <td>NaN</td>\n",
       "      <td>4.947346e+01</td>\n",
       "      <td>1.501709e+00</td>\n",
       "      <td>9.943934e+04</td>\n",
       "    </tr>\n",
       "    <tr>\n",
       "      <th>std</th>\n",
       "      <td>9.872944e+05</td>\n",
       "      <td>5.941743e+04</td>\n",
       "      <td>1.751567e+01</td>\n",
       "      <td>2.089983e+00</td>\n",
       "      <td>4.244550e+00</td>\n",
       "      <td>0.0</td>\n",
       "      <td>1.408493e+04</td>\n",
       "      <td>7.128171e+00</td>\n",
       "      <td>4.919236e-01</td>\n",
       "      <td>0.0</td>\n",
       "      <td>0.0</td>\n",
       "      <td>4.242307e+00</td>\n",
       "      <td>2.512206e+01</td>\n",
       "      <td>8.031093e+01</td>\n",
       "      <td>0.0</td>\n",
       "      <td>1.847861e+01</td>\n",
       "      <td>1.118467e+00</td>\n",
       "      <td>4.301682e+04</td>\n",
       "    </tr>\n",
       "    <tr>\n",
       "      <th>min</th>\n",
       "      <td>2.000000e+00</td>\n",
       "      <td>1.000000e+00</td>\n",
       "      <td>1.000000e+00</td>\n",
       "      <td>0.000000e+00</td>\n",
       "      <td>0.000000e+00</td>\n",
       "      <td>0.0</td>\n",
       "      <td>1.000000e+00</td>\n",
       "      <td>-1.280000e+02</td>\n",
       "      <td>0.000000e+00</td>\n",
       "      <td>1.0</td>\n",
       "      <td>1.0</td>\n",
       "      <td>1.000000e+00</td>\n",
       "      <td>3.000000e+00</td>\n",
       "      <td>1.000000e+00</td>\n",
       "      <td>0.0</td>\n",
       "      <td>1.800000e+01</td>\n",
       "      <td>0.000000e+00</td>\n",
       "      <td>2.590300e+04</td>\n",
       "    </tr>\n",
       "    <tr>\n",
       "      <th>25%</th>\n",
       "      <td>8.559570e+05</td>\n",
       "      <td>5.156600e+04</td>\n",
       "      <td>5.000000e+00</td>\n",
       "      <td>1.000000e+00</td>\n",
       "      <td>1.000000e+01</td>\n",
       "      <td>5.0</td>\n",
       "      <td>1.354400e+04</td>\n",
       "      <td>3.000000e+00</td>\n",
       "      <td>0.000000e+00</td>\n",
       "      <td>31.0</td>\n",
       "      <td>4.0</td>\n",
       "      <td>4.200000e+00</td>\n",
       "      <td>1.300000e+01</td>\n",
       "      <td>7.388235e+00</td>\n",
       "      <td>6.0</td>\n",
       "      <td>3.300000e+01</td>\n",
       "      <td>1.000000e+00</td>\n",
       "      <td>6.706400e+04</td>\n",
       "    </tr>\n",
       "    <tr>\n",
       "      <th>50%</th>\n",
       "      <td>1.711167e+06</td>\n",
       "      <td>1.025990e+05</td>\n",
       "      <td>1.100000e+01</td>\n",
       "      <td>3.000000e+00</td>\n",
       "      <td>1.300000e+01</td>\n",
       "      <td>7.0</td>\n",
       "      <td>2.533000e+04</td>\n",
       "      <td>6.000000e+00</td>\n",
       "      <td>1.000000e+00</td>\n",
       "      <td>83.0</td>\n",
       "      <td>9.0</td>\n",
       "      <td>7.400000e+00</td>\n",
       "      <td>2.600000e+01</td>\n",
       "      <td>7.825262e+00</td>\n",
       "      <td>7.0</td>\n",
       "      <td>4.900000e+01</td>\n",
       "      <td>2.000000e+00</td>\n",
       "      <td>9.660800e+04</td>\n",
       "    </tr>\n",
       "    <tr>\n",
       "      <th>75%</th>\n",
       "      <td>2.565283e+06</td>\n",
       "      <td>1.543850e+05</td>\n",
       "      <td>2.400000e+01</td>\n",
       "      <td>5.000000e+00</td>\n",
       "      <td>1.600000e+01</td>\n",
       "      <td>14.0</td>\n",
       "      <td>3.794800e+04</td>\n",
       "      <td>1.100000e+01</td>\n",
       "      <td>1.000000e+00</td>\n",
       "      <td>107.0</td>\n",
       "      <td>16.0</td>\n",
       "      <td>1.130000e+01</td>\n",
       "      <td>4.700000e+01</td>\n",
       "      <td>8.253684e+00</td>\n",
       "      <td>12.0</td>\n",
       "      <td>6.500000e+01</td>\n",
       "      <td>3.000000e+00</td>\n",
       "      <td>1.279210e+05</td>\n",
       "    </tr>\n",
       "    <tr>\n",
       "      <th>max</th>\n",
       "      <td>3.421082e+06</td>\n",
       "      <td>2.062090e+05</td>\n",
       "      <td>9.900000e+01</td>\n",
       "      <td>6.000000e+00</td>\n",
       "      <td>2.300000e+01</td>\n",
       "      <td>30.0</td>\n",
       "      <td>4.968800e+04</td>\n",
       "      <td>1.270000e+02</td>\n",
       "      <td>1.000000e+00</td>\n",
       "      <td>134.0</td>\n",
       "      <td>21.0</td>\n",
       "      <td>2.500000e+01</td>\n",
       "      <td>9.900000e+01</td>\n",
       "      <td>2.500542e+04</td>\n",
       "      <td>30.0</td>\n",
       "      <td>8.100000e+01</td>\n",
       "      <td>3.000000e+00</td>\n",
       "      <td>5.939010e+05</td>\n",
       "    </tr>\n",
       "  </tbody>\n",
       "</table>\n",
       "</div>"
      ],
      "text/plain": [
       "           order_id       user_id  order_number  orders_day_of_week  \\\n",
       "count  3.062496e+07  3.062496e+07  3.062496e+07        3.062496e+07   \n",
       "mean   1.710742e+06  1.029796e+05  1.712424e+01        2.738079e+00   \n",
       "std    9.872944e+05  5.941743e+04  1.751567e+01        2.089983e+00   \n",
       "min    2.000000e+00  1.000000e+00  1.000000e+00        0.000000e+00   \n",
       "25%    8.559570e+05  5.156600e+04  5.000000e+00        1.000000e+00   \n",
       "50%    1.711167e+06  1.025990e+05  1.100000e+01        3.000000e+00   \n",
       "75%    2.565283e+06  1.543850e+05  2.400000e+01        5.000000e+00   \n",
       "max    3.421082e+06  2.062090e+05  9.900000e+01        6.000000e+00   \n",
       "\n",
       "       time_order_placed  days_since_prior_order    product_id  \\\n",
       "count       3.062496e+07              30624960.0  3.062496e+07   \n",
       "mean        1.342524e+01                     NaN  2.560221e+04   \n",
       "std         4.244550e+00                     0.0  1.408493e+04   \n",
       "min         0.000000e+00                     0.0  1.000000e+00   \n",
       "25%         1.000000e+01                     5.0  1.354400e+04   \n",
       "50%         1.300000e+01                     7.0  2.533000e+04   \n",
       "75%         1.600000e+01                    14.0  3.794800e+04   \n",
       "max         2.300000e+01                    30.0  4.968800e+04   \n",
       "\n",
       "       add_to_cart_order     reordered    aisle_id  department_id  \\\n",
       "count       3.062496e+07  3.062496e+07  30624960.0     30624960.0   \n",
       "mean        8.354753e+00  5.895051e-01         NaN            NaN   \n",
       "std         7.128171e+00  4.919236e-01         0.0            0.0   \n",
       "min        -1.280000e+02  0.000000e+00         1.0            1.0   \n",
       "25%         3.000000e+00  0.000000e+00        31.0            4.0   \n",
       "50%         6.000000e+00  1.000000e+00        83.0            9.0   \n",
       "75%         1.100000e+01  1.000000e+00       107.0           16.0   \n",
       "max         1.270000e+02  1.000000e+00       134.0           21.0   \n",
       "\n",
       "             prices     max_order    mean_order  median_order_time  \\\n",
       "count  3.062496e+07  3.062496e+07  3.062496e+07         30624960.0   \n",
       "mean   7.791916e+00  3.301272e+01  1.180777e+01                NaN   \n",
       "std    4.242307e+00  2.512206e+01  8.031093e+01                0.0   \n",
       "min    1.000000e+00  3.000000e+00  1.000000e+00                0.0   \n",
       "25%    4.200000e+00  1.300000e+01  7.388235e+00                6.0   \n",
       "50%    7.400000e+00  2.600000e+01  7.825262e+00                7.0   \n",
       "75%    1.130000e+01  4.700000e+01  8.253684e+00               12.0   \n",
       "max    2.500000e+01  9.900000e+01  2.500542e+04               30.0   \n",
       "\n",
       "                Age  number_of_dependants        income  \n",
       "count  3.062496e+07          3.062496e+07  3.062496e+07  \n",
       "mean   4.947346e+01          1.501709e+00  9.943934e+04  \n",
       "std    1.847861e+01          1.118467e+00  4.301682e+04  \n",
       "min    1.800000e+01          0.000000e+00  2.590300e+04  \n",
       "25%    3.300000e+01          1.000000e+00  6.706400e+04  \n",
       "50%    4.900000e+01          2.000000e+00  9.660800e+04  \n",
       "75%    6.500000e+01          3.000000e+00  1.279210e+05  \n",
       "max    8.100000e+01          3.000000e+00  5.939010e+05  "
      ]
     },
     "execution_count": 105,
     "metadata": {},
     "output_type": "execute_result"
    }
   ],
   "source": [
    "##37 Looking at data\n",
    "df_merged.describe()"
   ]
  },
  {
   "cell_type": "code",
   "execution_count": 106,
   "id": "612fb60d",
   "metadata": {},
   "outputs": [],
   "source": [
    "##38 Exporting dataframe now merged as a pkl, \"orders_products_customers_merged\"\n",
    "df_merged_clean.to_pickle(os.path.join(path, 'Data','Prepared Data', 'orders_products_customers_merged.pkl'))"
   ]
  },
  {
   "cell_type": "code",
   "execution_count": null,
   "id": "4486ede9",
   "metadata": {},
   "outputs": [],
   "source": []
  }
 ],
 "metadata": {
  "kernelspec": {
   "display_name": "Python 3 (ipykernel)",
   "language": "python",
   "name": "python3"
  },
  "language_info": {
   "codemirror_mode": {
    "name": "ipython",
    "version": 3
   },
   "file_extension": ".py",
   "mimetype": "text/x-python",
   "name": "python",
   "nbconvert_exporter": "python",
   "pygments_lexer": "ipython3",
   "version": "3.9.13"
  }
 },
 "nbformat": 4,
 "nbformat_minor": 5
}
