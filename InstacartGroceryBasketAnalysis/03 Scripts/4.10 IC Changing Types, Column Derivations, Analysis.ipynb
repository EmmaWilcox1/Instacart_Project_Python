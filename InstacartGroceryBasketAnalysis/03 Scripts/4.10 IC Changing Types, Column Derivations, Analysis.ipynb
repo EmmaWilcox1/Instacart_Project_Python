{
 "cells": [
  {
   "cell_type": "code",
   "execution_count": 1,
   "id": "dde44361",
   "metadata": {},
   "outputs": [],
   "source": [
    "#Table of Contents for 4.10 Changing Types Column Derivations, Analysis\n",
    "##Importing Data\n",
    "##Changing Datatypes and dropping columns\n",
    "##Deriving new columns and reviewing distributions\n",
    "##Changing datatypes of newly created columns for faster run times"
   ]
  },
  {
   "cell_type": "code",
   "execution_count": 2,
   "id": "f7120a86",
   "metadata": {},
   "outputs": [],
   "source": [
    "#Importing data\n",
    "##01 Importing libraries\n",
    "import pandas as pd\n",
    "import numpy as np\n",
    "import os\n",
    "import matplotlib.pyplot as plt\n",
    "import seaborn as sns\n",
    "import scipy"
   ]
  },
  {
   "cell_type": "code",
   "execution_count": 3,
   "id": "7f185fcf",
   "metadata": {},
   "outputs": [],
   "source": [
    "##02 Defining \"path\" as a shortcut to the main Instacart folder on my desktop\n",
    "path = r'/Users/emmawilcox/Desktop/InstacartGroceryBasketAnalysis'"
   ]
  },
  {
   "cell_type": "code",
   "execution_count": 4,
   "id": "4b96941d",
   "metadata": {},
   "outputs": [],
   "source": [
    "##03 Importing InstacartGroceryBasketAnalysis as a dataframe, named \"df_nolow_activity\"\n",
    "df_nolow_activity=pd.read_pickle(r'/Users/emmawilcox/Desktop/InstacartGroceryBasketAnalysis/Data/prepared data/nolow_activity.pkl')"
   ]
  },
  {
   "cell_type": "code",
   "execution_count": 5,
   "id": "f6d1ebb0",
   "metadata": {},
   "outputs": [],
   "source": [
    "#Changing datatypes for faster run times and dropping 3 columns\n",
    "##04 Changing mean_order to a float16\n",
    "df_nolow_activity['mean_order']=df_nolow_activity['mean_order'].astype('float16')"
   ]
  },
  {
   "cell_type": "code",
   "execution_count": 6,
   "id": "c44a988c",
   "metadata": {},
   "outputs": [],
   "source": [
    "##05 Changing number_of_dependants to a float16\n",
    "df_nolow_activity['number_of_dependants']=df_nolow_activity['number_of_dependants'].astype('float16')\n",
    "\n"
   ]
  },
  {
   "cell_type": "code",
   "execution_count": 7,
   "id": "2ed760f6",
   "metadata": {},
   "outputs": [],
   "source": [
    "##06 Changing Activity_level to a float16, changing product_name to a category\n",
    "df_nolow_activity['Activity_Level']=df_nolow_activity['Activity_Level'].astype('int16')\n",
    "df_nolow_activity['product_name']=df_nolow_activity['product_name'].astype('category')\n"
   ]
  },
  {
   "cell_type": "code",
   "execution_count": 8,
   "id": "ea9da334",
   "metadata": {},
   "outputs": [],
   "source": [
    "##07 Changing loyalty_flag and spending_level to a category\n",
    "df_nolow_activity['loyalty_flag']=df_nolow_activity['loyalty_flag'].astype('category')\n",
    "df_nolow_activity['spending_level']=df_nolow_activity['spending_level'].astype('category')"
   ]
  },
  {
   "cell_type": "code",
   "execution_count": 9,
   "id": "23f97fb0",
   "metadata": {},
   "outputs": [],
   "source": [
    "##08 Changing frequency_of_customer and First Name to a category\n",
    "df_nolow_activity['frequency_of_customer']=df_nolow_activity['frequency_of_customer'].astype('category')\n",
    "df_nolow_activity['First Name']=df_nolow_activity['First Name'].astype('category')"
   ]
  },
  {
   "cell_type": "code",
   "execution_count": 10,
   "id": "5890d744",
   "metadata": {},
   "outputs": [],
   "source": [
    "##09 Changing Gender and STATE to a category\n",
    "df_nolow_activity['Gender']=df_nolow_activity['Gender'].astype('category')\n",
    "df_nolow_activity['STATE']=df_nolow_activity['STATE'].astype('category')"
   ]
  },
  {
   "cell_type": "code",
   "execution_count": 11,
   "id": "d2f7a390",
   "metadata": {},
   "outputs": [],
   "source": [
    "##10 Changing date_joined and family_status to a category\n",
    "df_nolow_activity['date_joined']=df_nolow_activity['date_joined'].astype('category')\n",
    "df_nolow_activity['family_status']=df_nolow_activity['family_status'].astype('category')"
   ]
  },
  {
   "cell_type": "code",
   "execution_count": 12,
   "id": "77ede053",
   "metadata": {},
   "outputs": [],
   "source": [
    "##11 Changing Region to a category\n",
    "df_nolow_activity['Region']=df_nolow_activity['Region'].astype('category')"
   ]
  },
  {
   "cell_type": "code",
   "execution_count": 13,
   "id": "b30e3c09",
   "metadata": {},
   "outputs": [],
   "source": [
    "##12 Using .drop to remove 3 unwanted columns\n",
    "df_nolow_activity.drop(columns = {'_merge', 'Check', 'New Check', 'Surname' }, inplace = True)"
   ]
  },
  {
   "cell_type": "code",
   "execution_count": 14,
   "id": "930dcbde",
   "metadata": {},
   "outputs": [],
   "source": [
    "#Deriving new columns and reviewing distributions\n",
    "##13 Using .loc instead of a user defined function, to sort customer incomes into four ranges within column, \"Income Range\" part 1\n",
    "df_nolow_activity.loc[df_nolow_activity['income'] <= 40000, 'Income Range'] = 'Lowest Income'"
   ]
  },
  {
   "cell_type": "code",
   "execution_count": 15,
   "id": "cdd9ef78",
   "metadata": {},
   "outputs": [],
   "source": [
    "##14 Using .loc instead of a user defined function, to sort customer incomes into four ranges, part 2\n",
    "df_nolow_activity.loc[(df_nolow_activity['income'] > 40000) & (df_nolow_activity['income'] < 70000), 'Income Range'] = 'Low Income'"
   ]
  },
  {
   "cell_type": "code",
   "execution_count": 16,
   "id": "da3ef542",
   "metadata": {},
   "outputs": [],
   "source": [
    "##15 Using .loc instead of a user defined function, to sort customer incomes into four ranges, part 3\n",
    "df_nolow_activity.loc[(df_nolow_activity['income'] > 70000) & (df_nolow_activity['income'] < 100000), 'Income Range'] = 'Mid Income'"
   ]
  },
  {
   "cell_type": "code",
   "execution_count": 17,
   "id": "0aa065f9",
   "metadata": {},
   "outputs": [],
   "source": [
    "##16 Using .loc instead of a user defined function, to sort customer incomes into four ranges, part 4\n",
    "df_nolow_activity.loc[df_nolow_activity['income'] >= 100000, 'Income Range'] = 'High Income'"
   ]
  },
  {
   "cell_type": "code",
   "execution_count": 18,
   "id": "52bab97f",
   "metadata": {},
   "outputs": [
    {
     "data": {
      "text/plain": [
       "High Income      13108122\n",
       "Mid Income        7598874\n",
       "Low Income        6342876\n",
       "Lowest Income     1467194\n",
       "NaN                   182\n",
       "Name: Income Range, dtype: int64"
      ]
     },
     "execution_count": 18,
     "metadata": {},
     "output_type": "execute_result"
    }
   ],
   "source": [
    "##17 Using .valuecounts to review range of Income Range, High Income is the majority\n",
    "df_nolow_activity['Income Range'].value_counts(dropna = False)"
   ]
  },
  {
   "cell_type": "code",
   "execution_count": 19,
   "id": "b032a1d7",
   "metadata": {},
   "outputs": [],
   "source": [
    "##18 Grouping Age into 3 Lifestages, part 1\n",
    "result1 = []\n",
    "\n",
    "for value in df_nolow_activity['Age']:                              \n",
    "  if value in range(0, 25):\n",
    "    result1.append(\"Youth Shopper\")\n",
    "  elif value in range(26, 54):\n",
    "    result1.append(\"Mid Age Shopper\")\n",
    "  else:\n",
    "    result1.append(\"Senior Shopper\")"
   ]
  },
  {
   "cell_type": "code",
   "execution_count": 24,
   "id": "4fde4465",
   "metadata": {},
   "outputs": [],
   "source": [
    "##18 Grouping Age into 3 Lifestages, part 2\n",
    "df_nolow_activity['Lifestage'] = result1"
   ]
  },
  {
   "cell_type": "code",
   "execution_count": 25,
   "id": "00b50fad",
   "metadata": {
    "scrolled": false
   },
   "outputs": [
    {
     "data": {
      "text/plain": [
       "Senior Shopper     12861555\n",
       "Mid Age Shopper    12505254\n",
       "Youth Shopper       3150439\n",
       "Name: Lifestage, dtype: int64"
      ]
     },
     "execution_count": 25,
     "metadata": {},
     "output_type": "execute_result"
    }
   ],
   "source": [
    "##19 Using .valuecounts to review range of Lifestage, customers ages 55+ and 25-54 are nearly the same, with a minority of customers under age 25 \n",
    "df_nolow_activity['Lifestage'].value_counts(dropna = False)"
   ]
  },
  {
   "cell_type": "code",
   "execution_count": 26,
   "id": "dc96e3f5",
   "metadata": {},
   "outputs": [
    {
     "data": {
      "text/plain": [
       "3.0    7151063\n",
       "2.0    7126908\n",
       "0.0    7122184\n",
       "1.0    7117093\n",
       "Name: number_of_dependants, dtype: int64"
      ]
     },
     "execution_count": 26,
     "metadata": {},
     "output_type": "execute_result"
    }
   ],
   "source": [
    "##20 Using .valuecounts to review range of existing column, number_of_dependants, distribution is very even\n",
    "df_nolow_activity['number_of_dependants'].value_counts(dropna = False)"
   ]
  },
  {
   "cell_type": "code",
   "execution_count": 27,
   "id": "5fdb627a",
   "metadata": {},
   "outputs": [],
   "source": [
    "##21 Using .loc instead of a user defined function, to sort customers by whether there are any children in household, part 1\n",
    "df_nolow_activity.loc[df_nolow_activity['number_of_dependants'] <= 0, 'Status_Kids'] = 'No'"
   ]
  },
  {
   "cell_type": "code",
   "execution_count": 28,
   "id": "ee1709d2",
   "metadata": {},
   "outputs": [],
   "source": [
    "##22 Using .loc instead of a user defined function, to sort customers by whether there are any children in household, part 2\n",
    "df_nolow_activity.loc[df_nolow_activity['number_of_dependants'] >= 1, 'Status_Kids'] = 'Yes'"
   ]
  },
  {
   "cell_type": "code",
   "execution_count": 29,
   "id": "1267d782",
   "metadata": {},
   "outputs": [
    {
     "data": {
      "text/plain": [
       "Yes    21395064\n",
       "No      7122184\n",
       "Name: Status_Kids, dtype: int64"
      ]
     },
     "execution_count": 29,
     "metadata": {},
     "output_type": "execute_result"
    }
   ],
   "source": [
    "##23 Using .valuecounts to review range of Status_Kids, majority of customers have children at home\n",
    "df_nolow_activity['Status_Kids'].value_counts(dropna = False)"
   ]
  },
  {
   "cell_type": "code",
   "execution_count": 30,
   "id": "2d7eee8f",
   "metadata": {},
   "outputs": [],
   "source": [
    "##24 Using .loc instead of a user defined function, to sort customer households by how many children are present, to create an approximate household size estimate, part 1\n",
    "df_nolow_activity.loc[(df_nolow_activity['number_of_dependants'] >= 0) & (df_nolow_activity['number_of_dependants'] < 1), 'Size of Family'] = 'Smaller Family'"
   ]
  },
  {
   "cell_type": "code",
   "execution_count": 31,
   "id": "230c35b9",
   "metadata": {},
   "outputs": [],
   "source": [
    "##25 Using .loc instead of a user defined function, to sort customer households by how many children are present, to create an approximate household size estimate, part 2\n",
    "df_nolow_activity.loc[(df_nolow_activity['number_of_dependants'] >= 1) & (df_nolow_activity['number_of_dependants'] <= 2), 'Size of Family'] = 'Midsize Family'"
   ]
  },
  {
   "cell_type": "code",
   "execution_count": 32,
   "id": "2baefe75",
   "metadata": {},
   "outputs": [],
   "source": [
    "##26 Using .loc instead of a user defined function, to sort customer households by how many children are present, to create an approximate household size estimate, part 3\n",
    "df_nolow_activity.loc[(df_nolow_activity['number_of_dependants'] >= 3), 'Size of Family'] = 'Larger Family'"
   ]
  },
  {
   "cell_type": "code",
   "execution_count": 33,
   "id": "8a802dec",
   "metadata": {},
   "outputs": [
    {
     "data": {
      "text/plain": [
       "Midsize Family    14244001\n",
       "Larger Family      7151063\n",
       "Smaller Family     7122184\n",
       "Name: Size of Family, dtype: int64"
      ]
     },
     "execution_count": 33,
     "metadata": {},
     "output_type": "execute_result"
    }
   ],
   "source": [
    "##27 Using .valuecounts to review range of Size of Family, 50% of customers have 1-2 children at home\n",
    "df_nolow_activity['Size of Family'].value_counts(dropna = False)"
   ]
  },
  {
   "cell_type": "code",
   "execution_count": 34,
   "id": "749c36d4",
   "metadata": {},
   "outputs": [],
   "source": [
    "##28 Using .loc instead of a user defined function, to derive a new column, \"Household_Kind_Budget\" with 6 categories, sorting customers by income level and whether children are home, part 1\n",
    "df_nolow_activity.loc[(df_nolow_activity['Status_Kids'] == 'No') & (df_nolow_activity['Income Range'] == 'Lowest Income'), 'Household_Kind_Budget'] = 'Low_No_Kids'"
   ]
  },
  {
   "cell_type": "code",
   "execution_count": 35,
   "id": "78f08e49",
   "metadata": {},
   "outputs": [],
   "source": [
    "##29 Using .loc instead of a user defined function, to derive a new column, \"Household_Kind_Budget\" with 6 categories, sorting customers by income level and whether children are home, part 2\n",
    "df_nolow_activity.loc[(df_nolow_activity['Status_Kids'] == 'No') & (df_nolow_activity['Income Range'] == 'Low Income'), 'Household_Kind_Budget'] = 'Low_No_Kids'"
   ]
  },
  {
   "cell_type": "code",
   "execution_count": 36,
   "id": "b149284d",
   "metadata": {},
   "outputs": [],
   "source": [
    "##30 Using .loc instead of a user defined function, to derive a new column, \"Household_Kind_Budget\" with 6 categories, sorting customers by income level and whether children are home, part 3\n",
    "df_nolow_activity.loc[(df_nolow_activity['Status_Kids'] == 'No') & (df_nolow_activity['Income Range'] == 'Mid Income'), 'Household_Kind_Budget'] = 'Mid_No_Kids'"
   ]
  },
  {
   "cell_type": "code",
   "execution_count": 37,
   "id": "6945427e",
   "metadata": {},
   "outputs": [],
   "source": [
    "##31 Using .loc instead of a user defined function, to derive a new column, \"Household_Kind_Budget\" with 6 categories, sorting customers by income level and whether children are home, part 4\n",
    "df_nolow_activity.loc[(df_nolow_activity['Status_Kids'] == 'No') & (df_nolow_activity['Income Range'] == 'High Income'), 'Household_Kind_Budget'] = 'High_No_Kids'"
   ]
  },
  {
   "cell_type": "code",
   "execution_count": 38,
   "id": "08c64d4e",
   "metadata": {},
   "outputs": [],
   "source": [
    "##32 Using .loc instead of a user defined function, to derive a new column, \"Household_Kind_Budget\" with 6 categories, sorting customers by income level and whether children are home, part 5\n",
    "df_nolow_activity.loc[(df_nolow_activity['Status_Kids'] == 'Yes') & (df_nolow_activity['Income Range'] == 'Lowest Income'), 'Household_Kind_Budget'] = 'Low_With_Kids'"
   ]
  },
  {
   "cell_type": "code",
   "execution_count": 39,
   "id": "11120413",
   "metadata": {},
   "outputs": [],
   "source": [
    "##33 Using .loc instead of a user defined function, to derive a new column, \"Household_Kind_Budget\" with 6 categories, sorting customers by income level and whether children are home, part 6\n",
    "df_nolow_activity.loc[(df_nolow_activity['Status_Kids'] == 'Yes') & (df_nolow_activity['Income Range'] == 'Low Income'), 'Household_Kind_Budget'] = 'Low_With_Kids'"
   ]
  },
  {
   "cell_type": "code",
   "execution_count": 40,
   "id": "e12b745d",
   "metadata": {},
   "outputs": [],
   "source": [
    "##34 Using .loc instead of a user defined function, to derive a new column, \"Household_Kind_Budget\" with 6 categories, sorting customers by income level and whether children are home, part 7\n",
    "df_nolow_activity.loc[(df_nolow_activity['Status_Kids'] == 'Yes') & (df_nolow_activity['Income Range'] == 'Mid Income'), 'Household_Kind_Budget'] = 'Mid_With_Kids'"
   ]
  },
  {
   "cell_type": "code",
   "execution_count": 41,
   "id": "ecce8e3f",
   "metadata": {},
   "outputs": [],
   "source": [
    "##35 Using .loc instead of a user defined function, to derive a new column, \"Household_Kind_Budget\" with 6 categories, sorting customers by income level and whether children are home, part 8\n",
    "df_nolow_activity.loc[(df_nolow_activity['Status_Kids'] == 'Yes') & (df_nolow_activity['Income Range'] == 'High Income'), 'Household_Kind_Budget'] = 'High_With_Kids'"
   ]
  },
  {
   "cell_type": "code",
   "execution_count": 51,
   "id": "fceb0546",
   "metadata": {},
   "outputs": [
    {
     "data": {
      "text/plain": [
       "High_With_Kids    9814792\n",
       "Low_With_Kids     5858248\n",
       "Mid_With_Kids     5721985\n",
       "High_No_Kids      3293330\n",
       "Low_No_Kids       1951822\n",
       "Mid_No_Kids       1876889\n",
       "NaN                   182\n",
       "Name: Household_Kind_Budget, dtype: int64"
      ]
     },
     "execution_count": 51,
     "metadata": {},
     "output_type": "execute_result"
    }
   ],
   "source": [
    "##36 Using .valuecounts to review range of Household_Kind_Budget, High income households with children are the majority\n",
    "df_nolow_activity['Household_Kind_Budget'].value_counts(dropna = False)"
   ]
  },
  {
   "cell_type": "code",
   "execution_count": 52,
   "id": "15808ab4",
   "metadata": {},
   "outputs": [],
   "source": [
    "##37 Using .loc instead of a user defined function, to derive a new column, \"Household_Status_Budget\" with 12 categories, sorting customers by income level and marital status/household type, part 1\n",
    "df_nolow_activity.loc[(df_nolow_activity['family_status'] == 'single') & (df_nolow_activity['Income Range'] == 'Low Income'), 'Household_Status_Budget'] = 'Low_Single'"
   ]
  },
  {
   "cell_type": "code",
   "execution_count": 53,
   "id": "cebaff45",
   "metadata": {},
   "outputs": [],
   "source": [
    "##38 Using .loc instead of a user defined function, to derive a new column, \"Household_Status_Budget\" with 12 categories, sorting customers by income level and marital status/household type, part 2\n",
    "df_nolow_activity.loc[(df_nolow_activity['family_status'] == 'single') & (df_nolow_activity['Income Range'] == 'Lowest Income'), 'Household_Status_Budget'] = 'Low_Single'"
   ]
  },
  {
   "cell_type": "code",
   "execution_count": 54,
   "id": "235e414b",
   "metadata": {},
   "outputs": [],
   "source": [
    "##39 Using .loc instead of a user defined function, to derive a new column, \"Household_Status_Budget\" with 12 categories, sorting customers by income level and marital status/household type, part 3\n",
    "df_nolow_activity.loc[(df_nolow_activity['family_status'] == 'single') & (df_nolow_activity['Income Range'] == 'Mid Income'), 'Household_Status_Budget'] = 'Mid_Single'"
   ]
  },
  {
   "cell_type": "code",
   "execution_count": 55,
   "id": "143e22b2",
   "metadata": {},
   "outputs": [],
   "source": [
    "##40 Using .loc instead of a user defined function, to derive a new column, \"Household_Status_Budget\" with 12 categories, sorting customers by income level and marital status/household type, part 3\n",
    "df_nolow_activity.loc[(df_nolow_activity['family_status'] == 'single') & (df_nolow_activity['Income Range'] == 'High Income'), 'Household_Status_Budget'] = 'High_Single'"
   ]
  },
  {
   "cell_type": "code",
   "execution_count": 56,
   "id": "a56be67a",
   "metadata": {},
   "outputs": [],
   "source": [
    "##41 Using .loc instead of a user defined function, to derive a new column, \"Household_Status_Budget\" with 12 categories, sorting customers by income level and marital status/household type, part 4\n",
    "df_nolow_activity.loc[(df_nolow_activity['family_status'] == 'married') & (df_nolow_activity['Income Range'] == 'Low Income'), 'Household_Status_Budget'] = 'Low_Married'"
   ]
  },
  {
   "cell_type": "code",
   "execution_count": 47,
   "id": "2e7f9eca",
   "metadata": {},
   "outputs": [],
   "source": [
    "##42 Using .loc instead of a user defined function, to derive a new column, \"Household_Status_Budget\" with 12 categories, sorting customers by income level and marital status/household type, part 5\n",
    "df_nolow_activity.loc[(df_nolow_activity['family_status'] == 'married') & (df_nolow_activity['Income Range'] == 'Lowest Income'), 'Household_Status_Budget'] = 'Low_Married'"
   ]
  },
  {
   "cell_type": "code",
   "execution_count": 57,
   "id": "0909c050",
   "metadata": {},
   "outputs": [],
   "source": [
    "##43 Using .loc instead of a user defined function, to derive a new column, \"Household_Status_Budget\" with 12 categories, sorting customers by income level and marital status/household type, part 6 \n",
    "df_nolow_activity.loc[(df_nolow_activity['family_status'] == 'married') & (df_nolow_activity['Income Range'] == 'Mid Income'), 'Household_Status_Budget'] = 'Mid_Married'"
   ]
  },
  {
   "cell_type": "code",
   "execution_count": 58,
   "id": "8a3f14cd",
   "metadata": {},
   "outputs": [],
   "source": [
    "##44 Using .loc instead of a user defined function, to derive a new column, \"Household_Status_Budget\" with 12 categories, sorting customers by income level and marital status/household type, part 7\n",
    "df_nolow_activity.loc[(df_nolow_activity['family_status'] == 'married') & (df_nolow_activity['Income Range'] == 'High Income'), 'Household_Status_Budget'] = 'High_Married'"
   ]
  },
  {
   "cell_type": "code",
   "execution_count": 59,
   "id": "6df089b1",
   "metadata": {},
   "outputs": [],
   "source": [
    "##45 Using .loc instead of a user defined function, to derive a new column, \"Household_Status_Budget\" with 12 categories, sorting customers by income level and marital status/household type, part 8\n",
    "df_nolow_activity.loc[(df_nolow_activity['family_status'] == 'divorced/widowed') & (df_nolow_activity['Income Range'] == 'Low Income'), 'Household_Status_Budget'] = 'Low_DivWid'"
   ]
  },
  {
   "cell_type": "code",
   "execution_count": 60,
   "id": "49ab4f6c",
   "metadata": {},
   "outputs": [],
   "source": [
    "##46 Using .loc instead of a user defined function, to derive a new column, \"Household_Status_Budget\" with 12 categories, sorting customers by income level and marital status/household type, part 9\n",
    "df_nolow_activity.loc[(df_nolow_activity['family_status'] == 'divorced/widowed') & (df_nolow_activity['Income Range'] == 'Lowest Income'), 'Household_Status_Budget'] = 'Low_DivWid'"
   ]
  },
  {
   "cell_type": "code",
   "execution_count": 61,
   "id": "8f283cd1",
   "metadata": {},
   "outputs": [],
   "source": [
    "##47 Using .loc instead of a user defined function, to derive a new column, \"Household_Status_Budget\" with 12 categories, sorting customers by income level and marital status/household type, part 10 \n",
    "df_nolow_activity.loc[(df_nolow_activity['family_status'] == 'divorced/widowed') & (df_nolow_activity['Income Range'] == 'Mid Income'), 'Household_Status_Budget'] = 'Mid_DivWid'"
   ]
  },
  {
   "cell_type": "code",
   "execution_count": 62,
   "id": "b71a5711",
   "metadata": {},
   "outputs": [],
   "source": [
    "##48 Using .loc instead of a user defined function, to derive a new column, \"Household_Status_Budget\" with 12 categories, sorting customers by income level and marital status/household type, part 11\n",
    "df_nolow_activity.loc[(df_nolow_activity['family_status'] == 'divorced/widowed') & (df_nolow_activity['Income Range'] == 'High Income'), 'Household_Status_Budget'] = 'High_DivWid'"
   ]
  },
  {
   "cell_type": "code",
   "execution_count": 63,
   "id": "1560c83a",
   "metadata": {},
   "outputs": [],
   "source": [
    "##49 Using .loc instead of a user defined function, to derive a new column, \"Household_Status_Budget\" with 12 categories, sorting customers by income level and marital status/household type, part 12\n",
    "df_nolow_activity.loc[(df_nolow_activity['family_status'] == 'living with parents and siblings') & (df_nolow_activity['Income Range'] == 'Low Income'), 'Household_Status_Budget'] = 'Low_Other'"
   ]
  },
  {
   "cell_type": "code",
   "execution_count": 64,
   "id": "c964febf",
   "metadata": {},
   "outputs": [],
   "source": [
    "##50 Using .loc instead of a user defined function, to derive a new column, \"Household_Status_Budget\" with 12 categories, sorting customers by income level and marital status/household type, part 13\n",
    "df_nolow_activity.loc[(df_nolow_activity['family_status'] == 'living with parents and siblings') & (df_nolow_activity['Income Range'] == 'Lowest Income'), 'Household_Status_Budget'] = 'Low_Other'"
   ]
  },
  {
   "cell_type": "code",
   "execution_count": 65,
   "id": "bf420379",
   "metadata": {},
   "outputs": [],
   "source": [
    "##51 Using .loc instead of a user defined function, to derive a new column, \"Household_Status_Budget\" with 12 categories, sorting customers by income level and marital status/household type, part 14\n",
    "df_nolow_activity.loc[(df_nolow_activity['family_status'] == 'living with parents and siblings') & (df_nolow_activity['Income Range'] == 'Mid Income'), 'Household_Status_Budget'] = 'Mid_Other'"
   ]
  },
  {
   "cell_type": "code",
   "execution_count": 66,
   "id": "88c83bf2",
   "metadata": {},
   "outputs": [],
   "source": [
    "##52 Using .loc instead of a user defined function, to derive a new column, \"Household_Status_Budget\" with 12 categories, sorting customers by income level and marital status/household type, part 15\n",
    "df_nolow_activity.loc[(df_nolow_activity['family_status'] == 'living with parents and siblings') & (df_nolow_activity['Income Range'] == 'High Income'), 'Household_Status_Budget'] = 'High_Other'"
   ]
  },
  {
   "cell_type": "code",
   "execution_count": 67,
   "id": "ea39a0f2",
   "metadata": {},
   "outputs": [
    {
     "data": {
      "text/plain": [
       "High_Married    9770536\n",
       "Low_Married     5176743\n",
       "Mid_Married     5077354\n",
       "High_DivWid     1711569\n",
       "Low_Single      1627586\n",
       "High_Single     1581761\n",
       "Mid_Single      1465153\n",
       "Low_Other        681505\n",
       "Mid_Other        644631\n",
       "Mid_DivWid       411736\n",
       "Low_DivWid       324236\n",
       "High_Other        44256\n",
       "NaN                 182\n",
       "Name: Household_Status_Budget, dtype: int64"
      ]
     },
     "execution_count": 67,
     "metadata": {},
     "output_type": "execute_result"
    }
   ],
   "source": [
    "##53 Using .valuecounts to review range of Household_Status_Budget, Married people represent the majority of the customer base\n",
    "df_nolow_activity['Household_Status_Budget'].value_counts(dropna = False)"
   ]
  },
  {
   "cell_type": "code",
   "execution_count": 54,
   "id": "81b85072",
   "metadata": {},
   "outputs": [],
   "source": [
    "##54 Using .loc instead of a user defined function, to sort customers based on whether they've ordered pet products, part 1\n",
    "df_nolow_activity.loc[df_nolow_activity['department_id'] == 8, 'Pet_Supply_Buyer'] = 'Yes'"
   ]
  },
  {
   "cell_type": "code",
   "execution_count": 55,
   "id": "20d666c9",
   "metadata": {},
   "outputs": [],
   "source": [
    "##55 Using .loc instead of a user defined function, to sort customers based on whether they've ordered pet products, part 2\n",
    "df_nolow_activity.loc[df_nolow_activity['department_id'] != 8, 'Pet_Supply_Buyer'] = 'No'"
   ]
  },
  {
   "cell_type": "code",
   "execution_count": 56,
   "id": "c73ccfcf",
   "metadata": {},
   "outputs": [
    {
     "data": {
      "text/plain": [
       "No     28431992\n",
       "Yes       85256\n",
       "Name: Pet_Owner, dtype: int64"
      ]
     },
     "execution_count": 56,
     "metadata": {},
     "output_type": "execute_result"
    }
   ],
   "source": [
    "##56 Using .valuecounts to review distribution of customers who have bought pet products\n",
    "df_nolow_activity['Pet_Supply_Buyer'].value_counts(dropna = False)"
   ]
  },
  {
   "cell_type": "code",
   "execution_count": 69,
   "id": "be10d001",
   "metadata": {},
   "outputs": [],
   "source": [
    "##55 Using .loc instead of a user defined function, to sort customers based on whether they've bought items from the Meat/Seafood and Dairy/Eggs depts, part 1\n",
    "df_nolow_activity.loc[df_nolow_activity['department_id'].isin([12, 16]), 'Possible Vegan'] = 'No'"
   ]
  },
  {
   "cell_type": "code",
   "execution_count": 70,
   "id": "855433c5",
   "metadata": {},
   "outputs": [],
   "source": [
    "##56 Using .loc instead of a user defined function, to sort customers based on whether they've bought items from the Meat/Seafood and Dairy/Eggs depts, part 2\n",
    "df_nolow_activity.loc[~df_nolow_activity['department_id'].isin([12, 16]), 'Possible Vegan'] = 'Yes'"
   ]
  },
  {
   "cell_type": "code",
   "execution_count": 73,
   "id": "84730d20",
   "metadata": {},
   "outputs": [
    {
     "data": {
      "text/plain": [
       "Yes    23125434\n",
       "No      5391814\n",
       "Name: Possible Vegan, dtype: int64"
      ]
     },
     "execution_count": 73,
     "metadata": {},
     "output_type": "execute_result"
    }
   ],
   "source": [
    "##57 Using .valuecounts to review distribution of customers who have bought meat, seafood, dairy or eggs, 81% of th customer base is not ordering from these depts, so a subset of that large segment is where vegans would be found\n",
    "df_nolow_activity['Possible Vegan'].value_counts(dropna = False)"
   ]
  },
  {
   "cell_type": "code",
   "execution_count": 74,
   "id": "c1549371",
   "metadata": {},
   "outputs": [],
   "source": [
    "##58 Using .loc instead of a user defined function, to sort customers based on whether they've bought items from the Meat/Seafood dept, part 1\n",
    "df_nolow_activity.loc[df_nolow_activity['department_id'] == 12, 'Meat Buyer'] = 'Yes'"
   ]
  },
  {
   "cell_type": "code",
   "execution_count": 75,
   "id": "fefc3960",
   "metadata": {},
   "outputs": [],
   "source": [
    "##59 Using .loc instead of a user defined function, to sort customers based on whether they've bought items from the Meat/Seafood dept, part 2\n",
    "df_nolow_activity.loc[df_nolow_activity['department_id'] != 12, 'Meat Buyer'] = 'No'"
   ]
  },
  {
   "cell_type": "code",
   "execution_count": 76,
   "id": "50963bf0",
   "metadata": {},
   "outputs": [
    {
     "data": {
      "text/plain": [
       "No     27896256\n",
       "Yes      620992\n",
       "Name: Meat Buyer, dtype: int64"
      ]
     },
     "execution_count": 76,
     "metadata": {},
     "output_type": "execute_result"
    }
   ],
   "source": [
    "##60 Using .valuecounts to review distribution of customers who have bought meat or seafood, only 2% of customer base is using instacart for meat/seafood buying\n",
    "df_nolow_activity['Meat Buyer'].value_counts(dropna = False)"
   ]
  },
  {
   "cell_type": "code",
   "execution_count": 78,
   "id": "251bcee9",
   "metadata": {},
   "outputs": [],
   "source": [
    "##61 Using .loc instead of a user defined function, to sort customers based on whether they've bought baby items, part 1\n",
    "df_nolow_activity.loc[df_nolow_activity['department_id'] == 18, 'Baby Item Buyer'] = 'Yes'"
   ]
  },
  {
   "cell_type": "code",
   "execution_count": 79,
   "id": "b1cd8a63",
   "metadata": {},
   "outputs": [],
   "source": [
    "##62 Using .loc instead of a user defined function, to sort customers based on whether they've bought baby items, part 2\n",
    "df_nolow_activity.loc[df_nolow_activity['department_id'] != 18, 'Baby Item Buyer'] = 'No'"
   ]
  },
  {
   "cell_type": "code",
   "execution_count": 80,
   "id": "030e59b1",
   "metadata": {},
   "outputs": [
    {
     "data": {
      "text/plain": [
       "No     28136418\n",
       "Yes      380830\n",
       "Name: Baby Item Buyer, dtype: int64"
      ]
     },
     "execution_count": 80,
     "metadata": {},
     "output_type": "execute_result"
    }
   ],
   "source": [
    "##63 Using .valuecounts to review distribution of customers who have bought baby items, 75% of customer base is households with children, but very few customers are using instacart for for baby needs they may have\n",
    "df_nolow_activity['Baby Item Buyer'].value_counts(dropna = False)"
   ]
  },
  {
   "cell_type": "code",
   "execution_count": 66,
   "id": "f6c94a6c",
   "metadata": {},
   "outputs": [
    {
     "data": {
      "text/html": [
       "<div>\n",
       "<style scoped>\n",
       "    .dataframe tbody tr th:only-of-type {\n",
       "        vertical-align: middle;\n",
       "    }\n",
       "\n",
       "    .dataframe tbody tr th {\n",
       "        vertical-align: top;\n",
       "    }\n",
       "\n",
       "    .dataframe thead tr th {\n",
       "        text-align: left;\n",
       "    }\n",
       "\n",
       "    .dataframe thead tr:last-of-type th {\n",
       "        text-align: right;\n",
       "    }\n",
       "</style>\n",
       "<table border=\"1\" class=\"dataframe\">\n",
       "  <thead>\n",
       "    <tr>\n",
       "      <th></th>\n",
       "      <th>max_order</th>\n",
       "    </tr>\n",
       "    <tr>\n",
       "      <th></th>\n",
       "      <th>mean</th>\n",
       "    </tr>\n",
       "    <tr>\n",
       "      <th>Region</th>\n",
       "      <th></th>\n",
       "    </tr>\n",
       "  </thead>\n",
       "  <tbody>\n",
       "    <tr>\n",
       "      <th>Midwest Region</th>\n",
       "      <td>34.791129</td>\n",
       "    </tr>\n",
       "    <tr>\n",
       "      <th>Northeast Region</th>\n",
       "      <td>35.426750</td>\n",
       "    </tr>\n",
       "    <tr>\n",
       "      <th>South Region</th>\n",
       "      <td>35.101279</td>\n",
       "    </tr>\n",
       "    <tr>\n",
       "      <th>West Region</th>\n",
       "      <td>35.282401</td>\n",
       "    </tr>\n",
       "  </tbody>\n",
       "</table>\n",
       "</div>"
      ],
      "text/plain": [
       "                  max_order\n",
       "                       mean\n",
       "Region                     \n",
       "Midwest Region    34.791129\n",
       "Northeast Region  35.426750\n",
       "South Region      35.101279\n",
       "West Region       35.282401"
      ]
     },
     "execution_count": 66,
     "metadata": {},
     "output_type": "execute_result"
    }
   ],
   "source": [
    "##64 Using .groupby and .agg to get the average maximum order for each department, by region, the Northeast has the highest average number of orders\n",
    "df_nolow_activity.groupby('Region').agg({'max_order': ['mean']})"
   ]
  },
  {
   "cell_type": "code",
   "execution_count": 87,
   "id": "ccc3c215",
   "metadata": {},
   "outputs": [
    {
     "data": {
      "text/html": [
       "<div>\n",
       "<style scoped>\n",
       "    .dataframe tbody tr th:only-of-type {\n",
       "        vertical-align: middle;\n",
       "    }\n",
       "\n",
       "    .dataframe tbody tr th {\n",
       "        vertical-align: top;\n",
       "    }\n",
       "\n",
       "    .dataframe thead tr th {\n",
       "        text-align: left;\n",
       "    }\n",
       "\n",
       "    .dataframe thead tr:last-of-type th {\n",
       "        text-align: right;\n",
       "    }\n",
       "</style>\n",
       "<table border=\"1\" class=\"dataframe\">\n",
       "  <thead>\n",
       "    <tr>\n",
       "      <th></th>\n",
       "      <th colspan=\"3\" halign=\"left\">order_number</th>\n",
       "    </tr>\n",
       "    <tr>\n",
       "      <th></th>\n",
       "      <th>mean</th>\n",
       "      <th>min</th>\n",
       "      <th>max</th>\n",
       "    </tr>\n",
       "    <tr>\n",
       "      <th>Region</th>\n",
       "      <th></th>\n",
       "      <th></th>\n",
       "      <th></th>\n",
       "    </tr>\n",
       "  </thead>\n",
       "  <tbody>\n",
       "    <tr>\n",
       "      <th>Midwest Region</th>\n",
       "      <td>18.038208</td>\n",
       "      <td>1</td>\n",
       "      <td>99</td>\n",
       "    </tr>\n",
       "    <tr>\n",
       "      <th>Northeast Region</th>\n",
       "      <td>18.350079</td>\n",
       "      <td>1</td>\n",
       "      <td>99</td>\n",
       "    </tr>\n",
       "    <tr>\n",
       "      <th>South Region</th>\n",
       "      <td>18.149098</td>\n",
       "      <td>1</td>\n",
       "      <td>99</td>\n",
       "    </tr>\n",
       "    <tr>\n",
       "      <th>West Region</th>\n",
       "      <td>18.271768</td>\n",
       "      <td>1</td>\n",
       "      <td>99</td>\n",
       "    </tr>\n",
       "  </tbody>\n",
       "</table>\n",
       "</div>"
      ],
      "text/plain": [
       "                 order_number        \n",
       "                         mean min max\n",
       "Region                               \n",
       "Midwest Region      18.038208   1  99\n",
       "Northeast Region    18.350079   1  99\n",
       "South Region        18.149098   1  99\n",
       "West Region         18.271768   1  99"
      ]
     },
     "execution_count": 87,
     "metadata": {},
     "output_type": "execute_result"
    }
   ],
   "source": [
    "##64 Using .groupby and .agg to get basic statistics for each department, by region, the Midwest has the lowest average number of orders\n",
    "df_nolow_activity.groupby('Region').agg({'order_number': ['mean', 'min', 'max']})"
   ]
  },
  {
   "cell_type": "code",
   "execution_count": 88,
   "id": "92ee5242",
   "metadata": {},
   "outputs": [
    {
     "data": {
      "text/plain": [
       "Region\n",
       "Midwest Region      7.793742\n",
       "Northeast Region    7.782205\n",
       "South Region        7.789014\n",
       "West Region         7.794364\n",
       "Name: prices, dtype: float64"
      ]
     },
     "execution_count": 88,
     "metadata": {},
     "output_type": "execute_result"
    }
   ],
   "source": [
    "##65 Using .groupby and .mean to get average price of items purchased by each user, customers in the West pay the highest average prices in their orders\n",
    "df_nolow_activity.groupby('Region')['prices'].mean()"
   ]
  },
  {
   "cell_type": "code",
   "execution_count": 67,
   "id": "a7a810d3",
   "metadata": {
    "scrolled": false
   },
   "outputs": [
    {
     "data": {
      "text/plain": [
       "Household_Kind_Budget\n",
       "High_No_Kids      7.947858\n",
       "High_With_Kids    7.951211\n",
       "Low_No_Kids       7.363180\n",
       "Low_With_Kids     7.364253\n",
       "Mid_No_Kids       7.952039\n",
       "Mid_With_Kids     7.955760\n",
       "Name: prices, dtype: float64"
      ]
     },
     "execution_count": 67,
     "metadata": {},
     "output_type": "execute_result"
    }
   ],
   "source": [
    "##66 Using .groupby and .mean to get average price of items purchased by each customert group, in terms of income and whether children are present. Notably, mid-income families with children pay the highest average product prices\n",
    "df_nolow_activity.groupby('Household_Kind_Budget')['prices'].mean()"
   ]
  },
  {
   "cell_type": "code",
   "execution_count": 89,
   "id": "7acbf2f7",
   "metadata": {
    "scrolled": true
   },
   "outputs": [
    {
     "data": {
      "text/plain": [
       "Household_Status_Budget\n",
       "High_DivWid     7.950298\n",
       "High_Married    7.951309\n",
       "High_Other      7.929603\n",
       "High_Single     7.945217\n",
       "Low_DivWid      6.788384\n",
       "Low_Married     7.326697\n",
       "Low_Other       7.649533\n",
       "Low_Single      7.477686\n",
       "Mid_DivWid      7.978580\n",
       "Mid_Married     7.955010\n",
       "Mid_Other       7.961663\n",
       "Mid_Single      7.944580\n",
       "Name: prices, dtype: float64"
      ]
     },
     "execution_count": 89,
     "metadata": {},
     "output_type": "execute_result"
    }
   ],
   "source": [
    "##67 Using .groupby and .mean to get average price of items purchased by each customert group, in terms of income and marital status. Notably, mid-income divorced or widowed households pay the highest average product prices\n",
    "df_nolow_activity.groupby('Household_Status_Budget')['prices'].mean()"
   ]
  },
  {
   "cell_type": "code",
   "execution_count": 93,
   "id": "7bcbc0ac",
   "metadata": {},
   "outputs": [],
   "source": [
    "##68 Grouping customers based on when they order, part 1. Night people = those who order between 10PM and 4AM, morning people = those who order between 5Am and 8Am, and regular people = those who order between 9AM and 9PM\n",
    "result2 = []\n",
    "\n",
    "for value in df_nolow_activity['time_order_placed']:                              \n",
    "  if value in (0, 1, 2, 3, 4, 22, 23):\n",
    "    result2.append(\"Night People\")\n",
    "  elif value in (5, 6, 7, 8):\n",
    "    result2.append(\"Morning People\")\n",
    "  else:\n",
    "    result2.append(\"Regular\")"
   ]
  },
  {
   "cell_type": "code",
   "execution_count": 94,
   "id": "65bdbb7f",
   "metadata": {},
   "outputs": [],
   "source": [
    "##69 Grouping customers based on when they order, part 2\n",
    "df_nolow_activity['Time Ordering'] = result2"
   ]
  },
  {
   "cell_type": "code",
   "execution_count": 95,
   "id": "eb68c673",
   "metadata": {},
   "outputs": [
    {
     "data": {
      "text/plain": [
       "Regular           24489823\n",
       "Morning People     2674751\n",
       "Night People       1352674\n",
       "Name: Time Ordering, dtype: int64"
      ]
     },
     "execution_count": 95,
     "metadata": {},
     "output_type": "execute_result"
    }
   ],
   "source": [
    "##70 Reviewing distribution of this demographic, the majority of orders are placed during regular hours\n",
    "df_nolow_activity['Time Ordering'].value_counts(dropna = False)"
   ]
  },
  {
   "cell_type": "code",
   "execution_count": 96,
   "id": "fc07fda4",
   "metadata": {},
   "outputs": [
    {
     "data": {
      "text/html": [
       "<div>\n",
       "<style scoped>\n",
       "    .dataframe tbody tr th:only-of-type {\n",
       "        vertical-align: middle;\n",
       "    }\n",
       "\n",
       "    .dataframe tbody tr th {\n",
       "        vertical-align: top;\n",
       "    }\n",
       "\n",
       "    .dataframe thead tr th {\n",
       "        text-align: left;\n",
       "    }\n",
       "\n",
       "    .dataframe thead tr:last-of-type th {\n",
       "        text-align: right;\n",
       "    }\n",
       "</style>\n",
       "<table border=\"1\" class=\"dataframe\">\n",
       "  <thead>\n",
       "    <tr>\n",
       "      <th></th>\n",
       "      <th>max_order</th>\n",
       "    </tr>\n",
       "    <tr>\n",
       "      <th></th>\n",
       "      <th>mean</th>\n",
       "    </tr>\n",
       "    <tr>\n",
       "      <th>Time Ordering</th>\n",
       "      <th></th>\n",
       "    </tr>\n",
       "  </thead>\n",
       "  <tbody>\n",
       "    <tr>\n",
       "      <th>Morning People</th>\n",
       "      <td>38.623792</td>\n",
       "    </tr>\n",
       "    <tr>\n",
       "      <th>Night People</th>\n",
       "      <td>34.354490</td>\n",
       "    </tr>\n",
       "    <tr>\n",
       "      <th>Regular</th>\n",
       "      <td>34.818667</td>\n",
       "    </tr>\n",
       "  </tbody>\n",
       "</table>\n",
       "</div>"
      ],
      "text/plain": [
       "                max_order\n",
       "                     mean\n",
       "Time Ordering            \n",
       "Morning People  38.623792\n",
       "Night People    34.354490\n",
       "Regular         34.818667"
      ]
     },
     "execution_count": 96,
     "metadata": {},
     "output_type": "execute_result"
    }
   ],
   "source": [
    "##71 Using .groupby and .agg to get average maximum order from different times, Morning people order more frequently\n",
    "df_nolow_activity.groupby('Time Ordering').agg({'max_order': ['mean']})"
   ]
  },
  {
   "cell_type": "code",
   "execution_count": 97,
   "id": "a964470b",
   "metadata": {},
   "outputs": [
    {
     "data": {
      "text/plain": [
       "Time Ordering\n",
       "Morning People    7.804928\n",
       "Night People      7.811884\n",
       "Regular           7.788284\n",
       "Name: prices, dtype: float64"
      ]
     },
     "execution_count": 97,
     "metadata": {},
     "output_type": "execute_result"
    }
   ],
   "source": [
    "##72 Using .groupby and .mean to get average price of items purchased at different times, Night people buy the highest-priced products\n",
    "df_nolow_activity.groupby('Time Ordering')['prices'].mean()"
   ]
  },
  {
   "cell_type": "code",
   "execution_count": 74,
   "id": "ff528f1e",
   "metadata": {},
   "outputs": [],
   "source": [
    "##73 Using .loc instead of a user defined function, to sort customers based on whether they've bought alcohol, part 1\n",
    "df_nolow_activity.loc[df_nolow_activity['department_id'] == 5, 'Alcohol Buyer'] = 'Yes'"
   ]
  },
  {
   "cell_type": "code",
   "execution_count": 75,
   "id": "938850ea",
   "metadata": {},
   "outputs": [],
   "source": [
    "##74 Using .loc instead of a user defined function, to sort customers based on whether they've bought alcohol, part 2\n",
    "df_nolow_activity.loc[df_nolow_activity['department_id'] != 5, 'Alcohol Buyer'] = 'No'"
   ]
  },
  {
   "cell_type": "code",
   "execution_count": 76,
   "id": "c5cf53b5",
   "metadata": {},
   "outputs": [
    {
     "data": {
      "text/plain": [
       "No     28384152\n",
       "Yes      133096\n",
       "Name: Alcohol Buyer, dtype: int64"
      ]
     },
     "execution_count": 76,
     "metadata": {},
     "output_type": "execute_result"
    }
   ],
   "source": [
    "##75 Reviewing distribution of alcohol-buying customers, the majority of the customer base is not using instacart for this kind of product, and instacart only delivers alcohol in certain states\n",
    "df_nolow_activity['Alcohol Buyer'].value_counts(dropna = False)"
   ]
  },
  {
   "cell_type": "code",
   "execution_count": 103,
   "id": "3f495db2",
   "metadata": {},
   "outputs": [],
   "source": [
    "##76 Creating a crosstab to review which depts are most popular with high spenders, part 1\n",
    "crosstab_dept_level = pd.crosstab(df_nolow_activity['department_id'], df_nolow_activity['spending_level'], dropna = False)\n"
   ]
  },
  {
   "cell_type": "code",
   "execution_count": 104,
   "id": "b0f749c6",
   "metadata": {},
   "outputs": [],
   "source": [
    "##77 Creating a crosstab to review which depts are most popular with high spenders, part 2\n",
    "crosstab_dept_level.to_clipboard()"
   ]
  },
  {
   "cell_type": "code",
   "execution_count": 78,
   "id": "602395f0",
   "metadata": {},
   "outputs": [
    {
     "name": "stdout",
     "output_type": "stream",
     "text": [
      "<class 'pandas.core.frame.DataFrame'>\n",
      "Int64Index: 28517248 entries, 0 to 32399731\n",
      "Data columns (total 44 columns):\n",
      " #   Column                   Dtype   \n",
      "---  ------                   -----   \n",
      " 0   order_id                 int64   \n",
      " 1   user_id                  int64   \n",
      " 2   order_number             int64   \n",
      " 3   orders_day_of_week       int8    \n",
      " 4   time_order_placed        int8    \n",
      " 5   days_since_prior_order   float16 \n",
      " 6   product_id               int64   \n",
      " 7   add_to_cart_order        int8    \n",
      " 8   reordered                int8    \n",
      " 9   product_name             category\n",
      " 10  aisle_id                 float16 \n",
      " 11  department_id            float16 \n",
      " 12  prices                   float64 \n",
      " 13  price_range_loc          object  \n",
      " 14  busiest_days_column      object  \n",
      " 15  busiest_period_of_day    object  \n",
      " 16  max_order                int64   \n",
      " 17  loyalty_flag             category\n",
      " 18  mean_order               float16 \n",
      " 19  spending_level           category\n",
      " 20  median_order_time        float16 \n",
      " 21  frequency_of_customer    category\n",
      " 22  First Name               category\n",
      " 23  Gender                   category\n",
      " 24  STATE                    category\n",
      " 25  Age                      float64 \n",
      " 26  date_joined              category\n",
      " 27  number_of_dependants     float16 \n",
      " 28  family_status            category\n",
      " 29  income                   float64 \n",
      " 30  Region                   category\n",
      " 31  Activity_Level           int16   \n",
      " 32  Income Range             object  \n",
      " 33  Lifestage                object  \n",
      " 34  Status_Kids              object  \n",
      " 35  Size of Family           object  \n",
      " 36  Household_Kind_Budget    object  \n",
      " 37  Household_Status_Budget  object  \n",
      " 38  Pet_Owner                object  \n",
      " 39  Possible Vegan           object  \n",
      " 40  Meat Buyer               object  \n",
      " 41  Baby Item Buyer          object  \n",
      " 42  Time Ordering            object  \n",
      " 43  Alcohol Buyer            object  \n",
      "dtypes: category(10), float16(6), float64(3), int16(1), int64(5), int8(4), object(15)\n",
      "memory usage: 6.0+ GB\n"
     ]
    }
   ],
   "source": [
    "#Changing datatypes of newly created columns for faster run times\n",
    "##78 Reviewing columns and datatypes using .info\n",
    "df_nolow_activity.info()"
   ]
  },
  {
   "cell_type": "code",
   "execution_count": 79,
   "id": "d4cca3c2",
   "metadata": {},
   "outputs": [],
   "source": [
    "##79 Changing Income Range from object to category\n",
    "df_nolow_activity['Income Range']=df_nolow_activity['Income Range'].astype('category')"
   ]
  },
  {
   "cell_type": "code",
   "execution_count": 80,
   "id": "fae738e4",
   "metadata": {},
   "outputs": [],
   "source": [
    "##80 Changing Household_Status_Budget, price_range_loc, and busiest_days_column from objects to categories\n",
    "df_nolow_activity['Household_Status_Budget']=df_nolow_activity['Household_Status_Budget'].astype('category')\n",
    "df_nolow_activity['price_range_loc']=df_nolow_activity['price_range_loc'].astype('category')\n",
    "df_nolow_activity['busiest_days_column']=df_nolow_activity['busiest_days_column'].astype('category')"
   ]
  },
  {
   "cell_type": "code",
   "execution_count": 81,
   "id": "21c9c42b",
   "metadata": {},
   "outputs": [],
   "source": [
    "##81 Changing Lifestage, Status_Kids, Size of Family, and Household_Kind_Budget from objects to categories\n",
    "df_nolow_activity['Lifestage']=df_nolow_activity['Lifestage'].astype('category')\n",
    "df_nolow_activity['Status_Kids']=df_nolow_activity['Status_Kids'].astype('category')\n",
    "df_nolow_activity['Size of Family']=df_nolow_activity['Size of Family'].astype('category')\n",
    "df_nolow_activity['Household_Kind_Budget']=df_nolow_activity['Household_Kind_Budget'].astype('category')"
   ]
  },
  {
   "cell_type": "code",
   "execution_count": 82,
   "id": "1bcf5974",
   "metadata": {},
   "outputs": [],
   "source": [
    "##82 Changing Pet_Owner, Possible Vegan, Meat Buyer, Baby Item Buyer, Time Ordering and Alcohol Buyer from objects to categories\n",
    "df_nolow_activity['Pet_Supply_Buyer']=df_nolow_activity['Pet_Supply_Buyer'].astype('category')\n",
    "df_nolow_activity['Possible Vegan']=df_nolow_activity['Possible Vegan'].astype('category')\n",
    "df_nolow_activity['Meat Buyer']=df_nolow_activity['Meat Buyer'].astype('category')\n",
    "df_nolow_activity['Baby Item Buyer']=df_nolow_activity['Baby Item Buyer'].astype('category')\n",
    "df_nolow_activity['Time Ordering']=df_nolow_activity['Time Ordering'].astype('category')\n",
    "df_nolow_activity['Alcohol Buyer']=df_nolow_activity['Alcohol Buyer'].astype('category')"
   ]
  },
  {
   "cell_type": "code",
   "execution_count": 83,
   "id": "a62abb82",
   "metadata": {},
   "outputs": [],
   "source": [
    "##83 Exporting subset as a pkl, \"allcolumnsforvisuals\"\n",
    "df_nolow_activity.to_pickle(os.path.join(path, 'Data','Prepared Data', 'allcolumnsforvisuals.pkl'))"
   ]
  },
  {
   "cell_type": "code",
   "execution_count": null,
   "id": "4a34257d",
   "metadata": {},
   "outputs": [],
   "source": []
  }
 ],
 "metadata": {
  "kernelspec": {
   "display_name": "Python 3 (ipykernel)",
   "language": "python",
   "name": "python3"
  },
  "language_info": {
   "codemirror_mode": {
    "name": "ipython",
    "version": 3
   },
   "file_extension": ".py",
   "mimetype": "text/x-python",
   "name": "python",
   "nbconvert_exporter": "python",
   "pygments_lexer": "ipython3",
   "version": "3.9.13"
  }
 },
 "nbformat": 4,
 "nbformat_minor": 5
}
